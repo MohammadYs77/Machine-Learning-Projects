{
 "cells": [
  {
   "cell_type": "markdown",
   "metadata": {
    "id": "URILb-2Qz-K4"
   },
   "source": [
    "# *IMDB Reviews Sentiment Analysis*\n",
    "---\n",
    "<br>\n",
    "\n",
    "## *Overview*\n",
    "> In this project, IMDB reviews sentiment will be analyzed and trained by 3 machine learning methods including: ***Naive Bayes, Logistic Regression and K-Nearest Neighbor*** classifiers and a ***Recursive Neural Network***. After training and testing phase, Hyperparameter Tuning using ***randomized search with cross-validation*** technique is going to be used to see wether the new models are functioning better or not. and finally, all of the results are going to be compared to each other.<br><br>\n",
    "***note: The dataset is downloaded from [Here](https://www.kaggle.com/lakshmi25npathi/imdb-dataset-of-50k-movie-reviews)***. \n",
    "\n",
    "<br>\n",
    "<br>\n",
    "\n",
    "## *Required steps for Machine Learning methods*\n",
    "> A few steps must be taken in order to format the data properly to train and test the methods. These steps are listed below:\n",
    "> - Installing and downloading some libraries for preprocessing goals.\n",
    "- Loading the dataset.\n",
    "- Preprocessing the dataset.\n",
    "- Splitting the data to **train** and **test** data.\n",
    "- Turning the dataset into an array of vectors using ***TF-IDF Vectorizer***.\n",
    "- Training and testing methods and storing their result in a dataframe.\n",
    "\n",
    "<br><br>\n",
    "\n",
    "## *Required steps for Deep Learning method*\n",
    "> In this project i've written a ***Recursive Neural Network (RNN)*** with embedding layers in it. The steps i took to reformat the data to feed into the network is written below:\n",
    "> - Training the ***Keras*** tokenizer with the training data.\n",
    "- Turning the preprocessed dataset into sequences using ***Keras*** library.\n",
    "- Padding the sequences until they all have equal length.\n",
    "- fitting the neural network with the data.\n",
    "\n",
    "<br><br>\n",
    "\n",
    "## Accuracies\n",
    "\n",
    "> all methods accuracies are listed below:\n",
    "\n",
    "| Methods             | Accuracy | Accuracy(Tuned) |\n",
    "|:------------------- | :------- | :-------------- |\n",
    "| Naive Bayes         | 85.83    | 85.83           |\n",
    "| Logistic Regression | 88.90    | 88.90           |\n",
    "| K-Nearest Neighbor  | 76.42    | 79.41           |\n",
    "| Neural Network      | 88.54    | NaN             |\n",
    "\n",
    "<br>"
   ]
  },
  {
   "cell_type": "code",
   "execution_count": 40,
   "metadata": {
    "executionInfo": {
     "elapsed": 7,
     "status": "ok",
     "timestamp": 1628097788649,
     "user": {
      "displayName": "Mohammad Yousefi",
      "photoUrl": "https://lh3.googleusercontent.com/a-/AOh14GipMf-NHI0u7U4NEscCv2WtYMLFeo_WxVVRA5xLjA=s64",
      "userId": "16195695402617972562"
     },
     "user_tz": -270
    },
    "id": "c0FZiUeQewJ3"
   },
   "outputs": [],
   "source": [
    "import pandas as pd\n",
    "import numpy as np\n",
    "\n",
    "import matplotlib.pyplot as plt\n",
    "import seaborn as sns\n",
    "\n",
    "import datetime, nltk, spacy, string, re\n",
    "from nltk.stem.porter import PorterStemmer\n",
    "\n",
    "from sklearn.model_selection import train_test_split\n",
    "from sklearn.feature_extraction.text import TfidfVectorizer\n",
    "\n",
    "from sklearn.naive_bayes import MultinomialNB\n",
    "from sklearn.linear_model import LogisticRegression\n",
    "from sklearn.neighbors import KNeighborsClassifier\n",
    "\n",
    "from sklearn.model_selection import RandomizedSearchCV\n",
    "\n",
    "from sklearn.metrics import classification_report, confusion_matrix, accuracy_score\n",
    "\n",
    "import tensorflow as tf\n",
    "\n",
    "from keras.preprocessing.text import Tokenizer\n",
    "from keras.preprocessing.sequence import pad_sequences\n",
    "\n",
    "from keras.models import Sequential\n",
    "from keras.layers import Dense, GlobalAveragePooling1D, Embedding, BatchNormalization, LeakyReLU\n",
    "from keras.callbacks import ModelCheckpoint\n",
    "from keras.backend import clear_session"
   ]
  },
  {
   "cell_type": "code",
   "execution_count": 3,
   "metadata": {
    "colab": {
     "base_uri": "https://localhost:8080/",
     "height": 203
    },
    "executionInfo": {
     "elapsed": 1691,
     "status": "ok",
     "timestamp": 1628097790335,
     "user": {
      "displayName": "Mohammad Yousefi",
      "photoUrl": "https://lh3.googleusercontent.com/a-/AOh14GipMf-NHI0u7U4NEscCv2WtYMLFeo_WxVVRA5xLjA=s64",
      "userId": "16195695402617972562"
     },
     "user_tz": -270
    },
    "id": "ENP5HpN4e6bX",
    "outputId": "e0c9bd07-6dca-44fc-80f3-eb3391f6e3b7"
   },
   "outputs": [
    {
     "data": {
      "text/html": [
       "<div>\n",
       "<style scoped>\n",
       "    .dataframe tbody tr th:only-of-type {\n",
       "        vertical-align: middle;\n",
       "    }\n",
       "\n",
       "    .dataframe tbody tr th {\n",
       "        vertical-align: top;\n",
       "    }\n",
       "\n",
       "    .dataframe thead th {\n",
       "        text-align: right;\n",
       "    }\n",
       "</style>\n",
       "<table border=\"1\" class=\"dataframe\">\n",
       "  <thead>\n",
       "    <tr style=\"text-align: right;\">\n",
       "      <th></th>\n",
       "      <th>review</th>\n",
       "      <th>sentiment</th>\n",
       "    </tr>\n",
       "  </thead>\n",
       "  <tbody>\n",
       "    <tr>\n",
       "      <th>0</th>\n",
       "      <td>One of the other reviewers has mentioned that ...</td>\n",
       "      <td>positive</td>\n",
       "    </tr>\n",
       "    <tr>\n",
       "      <th>1</th>\n",
       "      <td>A wonderful little production. &lt;br /&gt;&lt;br /&gt;The...</td>\n",
       "      <td>positive</td>\n",
       "    </tr>\n",
       "    <tr>\n",
       "      <th>2</th>\n",
       "      <td>I thought this was a wonderful way to spend ti...</td>\n",
       "      <td>positive</td>\n",
       "    </tr>\n",
       "    <tr>\n",
       "      <th>3</th>\n",
       "      <td>Basically there's a family where a little boy ...</td>\n",
       "      <td>negative</td>\n",
       "    </tr>\n",
       "    <tr>\n",
       "      <th>4</th>\n",
       "      <td>Petter Mattei's \"Love in the Time of Money\" is...</td>\n",
       "      <td>positive</td>\n",
       "    </tr>\n",
       "  </tbody>\n",
       "</table>\n",
       "</div>"
      ],
      "text/plain": [
       "                                              review sentiment\n",
       "0  One of the other reviewers has mentioned that ...  positive\n",
       "1  A wonderful little production. <br /><br />The...  positive\n",
       "2  I thought this was a wonderful way to spend ti...  positive\n",
       "3  Basically there's a family where a little boy ...  negative\n",
       "4  Petter Mattei's \"Love in the Time of Money\" is...  positive"
      ]
     },
     "execution_count": 3,
     "metadata": {},
     "output_type": "execute_result"
    }
   ],
   "source": [
    "imdb_df = pd.read_csv('IMDB Dataset.csv')\n",
    "imdb_df.head()"
   ]
  },
  {
   "cell_type": "markdown",
   "metadata": {
    "id": "fS2SWcPmZ0SO"
   },
   "source": [
    "### ***Analyzing the dataset for imbalances***\n",
    "\n",
    "in the cell below, i'm checking wether the dataset is equally distributed  or not. As you can see, the dataset is perfectly balanced (50 percent **positive** and 50 percent **negative**) "
   ]
  },
  {
   "cell_type": "code",
   "execution_count": 4,
   "metadata": {
    "colab": {
     "base_uri": "https://localhost:8080/",
     "height": 318
    },
    "executionInfo": {
     "elapsed": 832,
     "status": "ok",
     "timestamp": 1628097791160,
     "user": {
      "displayName": "Mohammad Yousefi",
      "photoUrl": "https://lh3.googleusercontent.com/a-/AOh14GipMf-NHI0u7U4NEscCv2WtYMLFeo_WxVVRA5xLjA=s64",
      "userId": "16195695402617972562"
     },
     "user_tz": -270
    },
    "id": "R8zS6gtxfmWI",
    "outputId": "93e37271-09b5-41ba-f54b-2a30d5aff390"
   },
   "outputs": [
    {
     "data": {
      "text/plain": [
       "Text(0, 0.5, 'Frequency')"
      ]
     },
     "execution_count": 4,
     "metadata": {},
     "output_type": "execute_result"
    },
    {
     "data": {
      "image/png": "[encoded data removed]",
      "text/plain": [
       "<Figure size 432x288 with 1 Axes>"
      ]
     },
     "metadata": {
      "needs_background": "light"
     },
     "output_type": "display_data"
    }
   ],
   "source": [
    "fig, ax = plt.subplots() \n",
    "data = imdb_df['sentiment'].value_counts() \n",
    "\n",
    "classes = data.index \n",
    "frequency = data.values \n",
    "\n",
    "ax.bar(classes, frequency) \n",
    "ax.set_title('Classes with their Frequency') \n",
    "ax.set_xlabel('Classes') \n",
    "ax.set_ylabel('Frequency')"
   ]
  },
  {
   "cell_type": "markdown",
   "metadata": {
    "id": "Zo1G20jgaytU"
   },
   "source": [
    "### ***Encoding the target labels***\n",
    "\n",
    "In these cells, the labels **negative** and **positive** are encoded to the numbers 0 and 1."
   ]
  },
  {
   "cell_type": "code",
   "execution_count": 5,
   "metadata": {
    "executionInfo": {
     "elapsed": 28,
     "status": "ok",
     "timestamp": 1628097791164,
     "user": {
      "displayName": "Mohammad Yousefi",
      "photoUrl": "https://lh3.googleusercontent.com/a-/AOh14GipMf-NHI0u7U4NEscCv2WtYMLFeo_WxVVRA5xLjA=s64",
      "userId": "16195695402617972562"
     },
     "user_tz": -270
    },
    "id": "4h2_ChJbH5h-"
   },
   "outputs": [],
   "source": [
    "from sklearn.preprocessing import LabelEncoder"
   ]
  },
  {
   "cell_type": "code",
   "execution_count": 6,
   "metadata": {
    "executionInfo": {
     "elapsed": 27,
     "status": "ok",
     "timestamp": 1628097791165,
     "user": {
      "displayName": "Mohammad Yousefi",
      "photoUrl": "https://lh3.googleusercontent.com/a-/AOh14GipMf-NHI0u7U4NEscCv2WtYMLFeo_WxVVRA5xLjA=s64",
      "userId": "16195695402617972562"
     },
     "user_tz": -270
    },
    "id": "BYZOgwGsfwHc"
   },
   "outputs": [],
   "source": [
    "le = LabelEncoder()\n",
    "imdb_df['sentiment'] = le.fit_transform(imdb_df['sentiment'])\n",
    "\n",
    "reviews = imdb_df['review'].tolist()\n",
    "sentiment = imdb_df['sentiment'].tolist()"
   ]
  },
  {
   "cell_type": "code",
   "execution_count": 7,
   "metadata": {
    "colab": {
     "base_uri": "https://localhost:8080/",
     "height": 203
    },
    "executionInfo": {
     "elapsed": 27,
     "status": "ok",
     "timestamp": 1628097791166,
     "user": {
      "displayName": "Mohammad Yousefi",
      "photoUrl": "https://lh3.googleusercontent.com/a-/AOh14GipMf-NHI0u7U4NEscCv2WtYMLFeo_WxVVRA5xLjA=s64",
      "userId": "16195695402617972562"
     },
     "user_tz": -270
    },
    "id": "0AH7X6-Mnddn",
    "outputId": "cc3c3b47-1687-46f3-e6c7-83cb828a51e9"
   },
   "outputs": [
    {
     "data": {
      "text/html": [
       "<div>\n",
       "<style scoped>\n",
       "    .dataframe tbody tr th:only-of-type {\n",
       "        vertical-align: middle;\n",
       "    }\n",
       "\n",
       "    .dataframe tbody tr th {\n",
       "        vertical-align: top;\n",
       "    }\n",
       "\n",
       "    .dataframe thead th {\n",
       "        text-align: right;\n",
       "    }\n",
       "</style>\n",
       "<table border=\"1\" class=\"dataframe\">\n",
       "  <thead>\n",
       "    <tr style=\"text-align: right;\">\n",
       "      <th></th>\n",
       "      <th>review</th>\n",
       "      <th>sentiment</th>\n",
       "    </tr>\n",
       "  </thead>\n",
       "  <tbody>\n",
       "    <tr>\n",
       "      <th>0</th>\n",
       "      <td>One of the other reviewers has mentioned that ...</td>\n",
       "      <td>1</td>\n",
       "    </tr>\n",
       "    <tr>\n",
       "      <th>1</th>\n",
       "      <td>A wonderful little production. &lt;br /&gt;&lt;br /&gt;The...</td>\n",
       "      <td>1</td>\n",
       "    </tr>\n",
       "    <tr>\n",
       "      <th>2</th>\n",
       "      <td>I thought this was a wonderful way to spend ti...</td>\n",
       "      <td>1</td>\n",
       "    </tr>\n",
       "    <tr>\n",
       "      <th>3</th>\n",
       "      <td>Basically there's a family where a little boy ...</td>\n",
       "      <td>0</td>\n",
       "    </tr>\n",
       "    <tr>\n",
       "      <th>4</th>\n",
       "      <td>Petter Mattei's \"Love in the Time of Money\" is...</td>\n",
       "      <td>1</td>\n",
       "    </tr>\n",
       "  </tbody>\n",
       "</table>\n",
       "</div>"
      ],
      "text/plain": [
       "                                              review  sentiment\n",
       "0  One of the other reviewers has mentioned that ...          1\n",
       "1  A wonderful little production. <br /><br />The...          1\n",
       "2  I thought this was a wonderful way to spend ti...          1\n",
       "3  Basically there's a family where a little boy ...          0\n",
       "4  Petter Mattei's \"Love in the Time of Money\" is...          1"
      ]
     },
     "execution_count": 7,
     "metadata": {},
     "output_type": "execute_result"
    }
   ],
   "source": [
    "imdb_df.head()"
   ]
  },
  {
   "cell_type": "code",
   "execution_count": 9,
   "metadata": {
    "colab": {
     "base_uri": "https://localhost:8080/"
    },
    "executionInfo": {
     "elapsed": 28,
     "status": "ok",
     "timestamp": 1628097791170,
     "user": {
      "displayName": "Mohammad Yousefi",
      "photoUrl": "https://lh3.googleusercontent.com/a-/AOh14GipMf-NHI0u7U4NEscCv2WtYMLFeo_WxVVRA5xLjA=s64",
      "userId": "16195695402617972562"
     },
     "user_tz": -270
    },
    "id": "98uWJ_zfPBl0",
    "outputId": "e3a7b6ea-e787-4f9e-f87f-c2c027ab50ba"
   },
   "outputs": [
    {
     "name": "stderr",
     "output_type": "stream",
     "text": [
      "[nltk_data] Downloading package punkt to\n",
      "[nltk_data]     C:\\Users\\moham\\AppData\\Roaming\\nltk_data...\n",
      "[nltk_data]   Package punkt is already up-to-date!\n"
     ]
    },
    {
     "data": {
      "text/plain": [
       "True"
      ]
     },
     "execution_count": 9,
     "metadata": {},
     "output_type": "execute_result"
    }
   ],
   "source": [
    "nltk.download('punkt')"
   ]
  },
  {
   "cell_type": "code",
   "execution_count": 10,
   "metadata": {
    "colab": {
     "base_uri": "https://localhost:8080/",
     "height": 35
    },
    "executionInfo": {
     "elapsed": 18,
     "status": "ok",
     "timestamp": 1628097791545,
     "user": {
      "displayName": "Mohammad Yousefi",
      "photoUrl": "https://lh3.googleusercontent.com/a-/AOh14GipMf-NHI0u7U4NEscCv2WtYMLFeo_WxVVRA5xLjA=s64",
      "userId": "16195695402617972562"
     },
     "user_tz": -270
    },
    "id": "LGDWFct64UKV",
    "outputId": "c94c1bb1-b0af-4638-b56d-be0c9554cd40"
   },
   "outputs": [
    {
     "data": {
      "text/plain": [
       "'!\"#$%&\\'()*+,-./:;<=>?@[\\\\]^_`{|}~'"
      ]
     },
     "execution_count": 10,
     "metadata": {},
     "output_type": "execute_result"
    }
   ],
   "source": [
    "string.punctuation"
   ]
  },
  {
   "cell_type": "markdown",
   "metadata": {
    "id": "KGTc-ejbcJMC"
   },
   "source": [
    "### ***Preprocessing***\n",
    "\n",
    "The preprocessing function consists of 9 stages which are listed below:<br><br>\n",
    "1. Turning each reviews characters to lowercase characters.\n",
    "2. Removing \\<br /> tags from the reviews.\n",
    "3. Removing additional spaces and replacing it with one space.\n",
    "4. Removing punctuations.\n",
    "5. Splitting each review to its words.\n",
    "6. Removing stop words.\n",
    "7. Removing each non-alphabet character in each review.\n",
    "8. Stemming each word of each review.\n",
    "9. Joining the words again."
   ]
  },
  {
   "cell_type": "code",
   "execution_count": 11,
   "metadata": {
    "executionInfo": {
     "elapsed": 18,
     "status": "ok",
     "timestamp": 1628097791547,
     "user": {
      "displayName": "Mohammad Yousefi",
      "photoUrl": "https://lh3.googleusercontent.com/a-/AOh14GipMf-NHI0u7U4NEscCv2WtYMLFeo_WxVVRA5xLjA=s64",
      "userId": "16195695402617972562"
     },
     "user_tz": -270
    },
    "id": "Fxthv_cO4XAJ"
   },
   "outputs": [],
   "source": [
    "def preprocess(reviews):\n",
    "    \n",
    "    puncs = string.punctuation\n",
    "    sp = spacy.load('en_core_web_sm')\n",
    "    stp_wrds = sp.Defaults.stop_words\n",
    "    txt = ''\n",
    "    stemmer = PorterStemmer()\n",
    "    result = []\n",
    "\n",
    "    for each_txt in reviews:\n",
    "        txt = each_txt.lower()\n",
    "        txt = re.sub(r'<br />', '', txt)\n",
    "        txt = re.sub(r'\\s{2,}', ' ', txt)\n",
    "        mytable = txt.maketrans('', '', puncs)\n",
    "        txt = txt.translate(mytable)\n",
    "        tokens = txt.split(' ')\n",
    "        tokens = [word for word in tokens if not word in stp_wrds]\n",
    "        tokens = [word for word in tokens if  word.isalpha()]\n",
    "        tokens = [stemmer.stem(each) for each in tokens]\n",
    "        result.append(' '.join(tokens))\n",
    "\n",
    "    return result"
   ]
  },
  {
   "cell_type": "code",
   "execution_count": 12,
   "metadata": {
    "colab": {
     "base_uri": "https://localhost:8080/"
    },
    "executionInfo": {
     "elapsed": 145502,
     "status": "ok",
     "timestamp": 1628097937032,
     "user": {
      "displayName": "Mohammad Yousefi",
      "photoUrl": "https://lh3.googleusercontent.com/a-/AOh14GipMf-NHI0u7U4NEscCv2WtYMLFeo_WxVVRA5xLjA=s64",
      "userId": "16195695402617972562"
     },
     "user_tz": -270
    },
    "id": "zSuBsbkB936A",
    "outputId": "82af245d-32ac-48ab-cee4-d26fb6785ceb",
    "scrolled": false
   },
   "outputs": [
    {
     "name": "stdout",
     "output_type": "stream",
     "text": [
      "One of the other reviewers has mentioned that after watching just 1 Oz episode you'll be hooked. They are right, as this is exactly what happened with me.<br /><br />The first thing that struck me about Oz was its brutality and unflinching scenes of violence, which set in right from the word GO. Trust me, this is not a show for the faint hearted or timid. This show pulls no punches with regards to drugs, sex or violence. Its is hardcore, in the classic use of the word.<br /><br />It is called OZ as that is the nickname given to the Oswald Maximum Security State Penitentary. It focuses mainly on Emerald City, an experimental section of the prison where all the cells have glass fronts and face inwards, so privacy is not high on the agenda. Em City is home to many..Aryans, Muslims, gangstas, Latinos, Christians, Italians, Irish and more....so scuffles, death stares, dodgy dealings and shady agreements are never far away.<br /><br />I would say the main appeal of the show is due to the fact that it goes where other shows wouldn't dare. Forget pretty pictures painted for mainstream audiences, forget charm, forget romance...OZ doesn't mess around. The first episode I ever saw struck me as so nasty it was surreal, I couldn't say I was ready for it, but as I watched more, I developed a taste for Oz, and got accustomed to the high levels of graphic violence. Not just violence, but injustice (crooked guards who'll be sold out for a nickel, inmates who'll kill on order and get away with it, well mannered, middle class inmates being turned into prison bitches due to their lack of street skills or prison experience) Watching Oz, you may become comfortable with what is uncomfortable viewing....thats if you can get in touch with your darker side.\n",
      "review mention watch oz episod youll hook right exactli happen meth thing struck oz brutal unflinch scene violenc set right word trust faint heart timid pull punch regard drug sex violenc hardcor classic use wordit call oz nicknam given oswald maximum secur state penitentari focus mainli emerald citi experiment section prison cell glass front face inward privaci high agenda em citi home manyaryan muslim gangsta latino christian italian irish moreso scuffl death stare dodgi deal shadi agreement far awayi main appeal fact goe show wouldnt dare forget pretti pictur paint mainstream audienc forget charm forget romanceoz doesnt mess episod saw struck nasti surreal couldnt readi watch develop tast oz got accustom high level graphic violenc violenc injustic crook guard wholl sold nickel inmat wholl kill order away manner middl class inmat turn prison bitch lack street skill prison experi watch oz comfort uncomfort viewingthat touch darker\n"
     ]
    }
   ],
   "source": [
    "print(reviews[0])\n",
    "processed_reviews = preprocess(reviews)\n",
    "print(processed_reviews[0])"
   ]
  },
  {
   "cell_type": "code",
   "execution_count": 13,
   "metadata": {
    "executionInfo": {
     "elapsed": 18,
     "status": "ok",
     "timestamp": 1628097937033,
     "user": {
      "displayName": "Mohammad Yousefi",
      "photoUrl": "https://lh3.googleusercontent.com/a-/AOh14GipMf-NHI0u7U4NEscCv2WtYMLFeo_WxVVRA5xLjA=s64",
      "userId": "16195695402617972562"
     },
     "user_tz": -270
    },
    "id": "2Z0ufEohcRZa"
   },
   "outputs": [],
   "source": [
    "processed_data_dict = {'Review':processed_reviews, 'Sentiment':sentiment}\n",
    "\n",
    "imdb_df = pd.DataFrame(processed_data_dict)"
   ]
  },
  {
   "cell_type": "code",
   "execution_count": 14,
   "metadata": {
    "colab": {
     "base_uri": "https://localhost:8080/",
     "height": 203
    },
    "executionInfo": {
     "elapsed": 19,
     "status": "ok",
     "timestamp": 1628097937036,
     "user": {
      "displayName": "Mohammad Yousefi",
      "photoUrl": "https://lh3.googleusercontent.com/a-/AOh14GipMf-NHI0u7U4NEscCv2WtYMLFeo_WxVVRA5xLjA=s64",
      "userId": "16195695402617972562"
     },
     "user_tz": -270
    },
    "id": "kCnoo5S8c7cb",
    "outputId": "983dbfab-016f-4b18-999e-51cac1e9e94e"
   },
   "outputs": [
    {
     "data": {
      "text/html": [
       "<div>\n",
       "<style scoped>\n",
       "    .dataframe tbody tr th:only-of-type {\n",
       "        vertical-align: middle;\n",
       "    }\n",
       "\n",
       "    .dataframe tbody tr th {\n",
       "        vertical-align: top;\n",
       "    }\n",
       "\n",
       "    .dataframe thead th {\n",
       "        text-align: right;\n",
       "    }\n",
       "</style>\n",
       "<table border=\"1\" class=\"dataframe\">\n",
       "  <thead>\n",
       "    <tr style=\"text-align: right;\">\n",
       "      <th></th>\n",
       "      <th>Review</th>\n",
       "      <th>Sentiment</th>\n",
       "    </tr>\n",
       "  </thead>\n",
       "  <tbody>\n",
       "    <tr>\n",
       "      <th>0</th>\n",
       "      <td>review mention watch oz episod youll hook righ...</td>\n",
       "      <td>1</td>\n",
       "    </tr>\n",
       "    <tr>\n",
       "      <th>1</th>\n",
       "      <td>wonder littl product film techniqu unassum old...</td>\n",
       "      <td>1</td>\n",
       "    </tr>\n",
       "    <tr>\n",
       "      <th>2</th>\n",
       "      <td>thought wonder way spend time hot summer weeke...</td>\n",
       "      <td>1</td>\n",
       "    </tr>\n",
       "    <tr>\n",
       "      <th>3</th>\n",
       "      <td>basic there famili littl boy jake think there ...</td>\n",
       "      <td>0</td>\n",
       "    </tr>\n",
       "    <tr>\n",
       "      <th>4</th>\n",
       "      <td>petter mattei love time money visual stun film...</td>\n",
       "      <td>1</td>\n",
       "    </tr>\n",
       "  </tbody>\n",
       "</table>\n",
       "</div>"
      ],
      "text/plain": [
       "                                              Review  Sentiment\n",
       "0  review mention watch oz episod youll hook righ...          1\n",
       "1  wonder littl product film techniqu unassum old...          1\n",
       "2  thought wonder way spend time hot summer weeke...          1\n",
       "3  basic there famili littl boy jake think there ...          0\n",
       "4  petter mattei love time money visual stun film...          1"
      ]
     },
     "execution_count": 14,
     "metadata": {},
     "output_type": "execute_result"
    }
   ],
   "source": [
    "imdb_df.head()"
   ]
  },
  {
   "cell_type": "code",
   "execution_count": 15,
   "metadata": {
    "executionInfo": {
     "elapsed": 17,
     "status": "ok",
     "timestamp": 1628097937037,
     "user": {
      "displayName": "Mohammad Yousefi",
      "photoUrl": "https://lh3.googleusercontent.com/a-/AOh14GipMf-NHI0u7U4NEscCv2WtYMLFeo_WxVVRA5xLjA=s64",
      "userId": "16195695402617972562"
     },
     "user_tz": -270
    },
    "id": "hw8xUX74MZoN"
   },
   "outputs": [],
   "source": [
    "accuracies_dict = {'Naive Bayes': None, 'Logistic Regression': None, 'KNN': None}\n",
    "RandomizedSearch_accuracies_dict = {'Naive Bayes': None, 'Logistic Regression': None, 'KNN': None}"
   ]
  },
  {
   "cell_type": "markdown",
   "metadata": {
    "id": "1mdTyBwKeoPu"
   },
   "source": [
    "### ***Splitting data into train and test data and vectorizing it***\n",
    "In the cell below, the dataset is being splitted into train and test data with 80%-20% ratio. The parameter ***stratify*** guarantees that the data in both train and test set is being distributed equally, thus 50% of train data have the label ***0*** and the other 50% is ***1***. This condition also applies to the test data.<br><br>\n",
    "The vectorizing phase is done with ***TF-IDF*** vectorizer. First, i fit the train data to the vectorizer. The vectorizer, does some preprocessing of its own on the texts, then it tokenizes and tries to learn the words from the texts. After, i transform the train data to vectors based on the words the vectorizer has learned. "
   ]
  },
  {
   "cell_type": "code",
   "execution_count": 16,
   "metadata": {
    "executionInfo": {
     "elapsed": 17,
     "status": "ok",
     "timestamp": 1628097937038,
     "user": {
      "displayName": "Mohammad Yousefi",
      "photoUrl": "https://lh3.googleusercontent.com/a-/AOh14GipMf-NHI0u7U4NEscCv2WtYMLFeo_WxVVRA5xLjA=s64",
      "userId": "16195695402617972562"
     },
     "user_tz": -270
    },
    "id": "z8C_C_iAc9zw"
   },
   "outputs": [],
   "source": [
    "X, y = imdb_df['Review'], imdb_df['Sentiment']\n",
    "\n",
    "x_train, x_test, y_train, y_test = train_test_split(X, y, test_size = 0.1, stratify = y, random_state = 42)"
   ]
  },
  {
   "cell_type": "code",
   "execution_count": 17,
   "metadata": {
    "executionInfo": {
     "elapsed": 10298,
     "status": "ok",
     "timestamp": 1628097947319,
     "user": {
      "displayName": "Mohammad Yousefi",
      "photoUrl": "https://lh3.googleusercontent.com/a-/AOh14GipMf-NHI0u7U4NEscCv2WtYMLFeo_WxVVRA5xLjA=s64",
      "userId": "16195695402617972562"
     },
     "user_tz": -270
    },
    "id": "U-AYv1bOhU5s"
   },
   "outputs": [],
   "source": [
    "vectorizer = TfidfVectorizer()\n",
    "vectorizer.fit(x_train)\n",
    "\n",
    "x_train_vec = vectorizer.transform(x_train)\n",
    "x_test_vec = vectorizer.transform(x_test)"
   ]
  },
  {
   "cell_type": "code",
   "execution_count": 18,
   "metadata": {
    "colab": {
     "base_uri": "https://localhost:8080/"
    },
    "executionInfo": {
     "elapsed": 23,
     "status": "ok",
     "timestamp": 1628097947320,
     "user": {
      "displayName": "Mohammad Yousefi",
      "photoUrl": "https://lh3.googleusercontent.com/a-/AOh14GipMf-NHI0u7U4NEscCv2WtYMLFeo_WxVVRA5xLjA=s64",
      "userId": "16195695402617972562"
     },
     "user_tz": -270
    },
    "id": "i8nSCMWRl0Da",
    "outputId": "d4d69963-d48c-4d1e-bc6f-4af4b01dbe77"
   },
   "outputs": [
    {
     "name": "stdout",
     "output_type": "stream",
     "text": [
      "(45000, 161581)\n"
     ]
    }
   ],
   "source": [
    "print(x_train_vec.shape)"
   ]
  },
  {
   "cell_type": "markdown",
   "metadata": {
    "id": "ZBa9fKF_mS7Q"
   },
   "source": [
    "### ***fit_model function***\n",
    "This function, takes a method and the data, fits the data to the model and then reports the precision, recall, f1-score and the accuracy of the model and draws a heatmap of the model if needed. More details about the function is written below:<br><br>\n",
    "\n",
    "***Parameters***\n",
    "\n",
    "- **X** is the model.\n",
    "- **x_train, y_train, x_test, y-test** are the train and test data.\n",
    "- **acc_dict** is the accuracy dictionary to write the model's accuracy to it for logging porpuses.\n",
    "- **method** is the name of the model.\n",
    "- **report** and **draw_heatmap** parameters are optional and set to **True** initially. \n",
    "\n",
    "<br><br>\n",
    "\n",
    "***Returns***<br>\n",
    "a tuple of the model itself and the accuracy dictionary.\n"
   ]
  },
  {
   "cell_type": "code",
   "execution_count": 19,
   "metadata": {
    "executionInfo": {
     "elapsed": 22,
     "status": "ok",
     "timestamp": 1628097947322,
     "user": {
      "displayName": "Mohammad Yousefi",
      "photoUrl": "https://lh3.googleusercontent.com/a-/AOh14GipMf-NHI0u7U4NEscCv2WtYMLFeo_WxVVRA5xLjA=s64",
      "userId": "16195695402617972562"
     },
     "user_tz": -270
    },
    "id": "4R5pBshrxHqP"
   },
   "outputs": [],
   "source": [
    "def fit_model(X, x_train, y_train, x_test, y_test, acc_dict, method, report=True, draw_heatmap=True):\n",
    "\n",
    "    model = X\n",
    "    model.fit(x_train, y_train)\n",
    "\n",
    "    pred = model.predict(x_test)\n",
    "    \n",
    "    if report:\n",
    "        print(classification_report(list(y_test), pred))\n",
    "        acc_dict[method] = accuracy_score(list(y_test), pred)\n",
    "        \n",
    "    if draw_heatmap:\n",
    "        print()\n",
    "        matrix = confusion_matrix(list(y_test), pred)\n",
    "\n",
    "        sns.set()\n",
    "        plt.figure(figsize = (5, 5))\n",
    "\n",
    "        sns.heatmap(matrix.T,\n",
    "                    square = True,\n",
    "                    annot = True,\n",
    "                    fmt = 'd',\n",
    "                    cbar = False,\n",
    "                    linewidths = .9,\n",
    "                    xticklabels = ['0', '1'],\n",
    "                    yticklabels = ['0', '1'])\n",
    "\n",
    "        plt.xlabel('Truth')\n",
    "        plt.ylabel('Predicted')\n",
    "\n",
    "    \n",
    "    return model, acc_dict"
   ]
  },
  {
   "cell_type": "code",
   "execution_count": 20,
   "metadata": {
    "colab": {
     "base_uri": "https://localhost:8080/",
     "height": 507
    },
    "executionInfo": {
     "elapsed": 22,
     "status": "ok",
     "timestamp": 1628097947323,
     "user": {
      "displayName": "Mohammad Yousefi",
      "photoUrl": "https://lh3.googleusercontent.com/a-/AOh14GipMf-NHI0u7U4NEscCv2WtYMLFeo_WxVVRA5xLjA=s64",
      "userId": "16195695402617972562"
     },
     "user_tz": -270
    },
    "id": "iqtLk4hDouG6",
    "outputId": "3aee3923-2423-4619-f260-a7792b0613f2"
   },
   "outputs": [
    {
     "name": "stdout",
     "output_type": "stream",
     "text": [
      "              precision    recall  f1-score   support\n",
      "\n",
      "           0       0.85      0.86      0.86      2500\n",
      "           1       0.86      0.85      0.86      2500\n",
      "\n",
      "    accuracy                           0.86      5000\n",
      "   macro avg       0.86      0.86      0.86      5000\n",
      "weighted avg       0.86      0.86      0.86      5000\n",
      "\n",
      "\n"
     ]
    },
    {
     "data": {
      "image/png": "[encoded data removed]",
      "text/plain": [
       "<Figure size 360x360 with 1 Axes>"
      ]
     },
     "metadata": {},
     "output_type": "display_data"
    }
   ],
   "source": [
    "nb, accuracies_dict = fit_model(MultinomialNB(),\n",
    "        x_train_vec,\n",
    "        y_train,\n",
    "        x_test_vec,\n",
    "        y_test,\n",
    "        accuracies_dict,\n",
    "        'Naive Bayes')"
   ]
  },
  {
   "cell_type": "code",
   "execution_count": 21,
   "metadata": {
    "colab": {
     "base_uri": "https://localhost:8080/",
     "height": 507
    },
    "executionInfo": {
     "elapsed": 5297,
     "status": "ok",
     "timestamp": 1628097952601,
     "user": {
      "displayName": "Mohammad Yousefi",
      "photoUrl": "https://lh3.googleusercontent.com/a-/AOh14GipMf-NHI0u7U4NEscCv2WtYMLFeo_WxVVRA5xLjA=s64",
      "userId": "16195695402617972562"
     },
     "user_tz": -270
    },
    "id": "Dh6teo4H0y9T",
    "outputId": "e426e112-e61d-4768-cce8-370b3770d3fd"
   },
   "outputs": [
    {
     "name": "stdout",
     "output_type": "stream",
     "text": [
      "              precision    recall  f1-score   support\n",
      "\n",
      "           0       0.90      0.87      0.89      2500\n",
      "           1       0.88      0.90      0.89      2500\n",
      "\n",
      "    accuracy                           0.89      5000\n",
      "   macro avg       0.89      0.89      0.89      5000\n",
      "weighted avg       0.89      0.89      0.89      5000\n",
      "\n",
      "\n"
     ]
    },
    {
     "data": {
      "image/png": "[encoded data removed]",
      "text/plain": [
       "<Figure size 360x360 with 1 Axes>"
      ]
     },
     "metadata": {},
     "output_type": "display_data"
    }
   ],
   "source": [
    "lr, accuracies_dict = fit_model(LogisticRegression(solver='newton-cg'),\n",
    "        x_train_vec,\n",
    "        y_train,\n",
    "        x_test_vec,\n",
    "        y_test,\n",
    "        accuracies_dict,\n",
    "        'Logistic Regression')"
   ]
  },
  {
   "cell_type": "markdown",
   "metadata": {
    "id": "-f3J8XBuqLGD"
   },
   "source": [
    "### ***Hyperparameter Tuning***\n",
    "Now, i'm aiming to increase the models accuracy with tuning the parameters with the best values. In this project, i used ***RandomizedSearchCV*** from ***sklearn*** library to do the job. The reason i used RandomizedSearchCV instead of GridSearchCV, is this object takes muc less time despite of GridSearchCV and the results are almost as good as the GridSearchCV object. In the cell below, some parameters with different values are set for different methods we used earlier."
   ]
  },
  {
   "cell_type": "code",
   "execution_count": null,
   "metadata": {
    "executionInfo": {
     "elapsed": 37,
     "status": "ok",
     "timestamp": 1628097981121,
     "user": {
      "displayName": "Mohammad Yousefi",
      "photoUrl": "https://lh3.googleusercontent.com/a-/AOh14GipMf-NHI0u7U4NEscCv2WtYMLFeo_WxVVRA5xLjA=s64",
      "userId": "16195695402617972562"
     },
     "user_tz": -270
    },
    "id": "fkuIpN3CNboj"
   },
   "outputs": [],
   "source": [
    "knn_params = {  \n",
    "    'n_neighbors': [20, 25, 30, 35, 40],\n",
    "    'weights': ['uniform', 'distance'],\n",
    "    'algorithm': ['auto', 'ball_tree', 'kd_tree', 'brute'], \n",
    "}  \n",
    "\n",
    "nb_params = {  \n",
    "    'alpha': [0.25, 0.5, 1.0, 1.5, 2.0, 2.5],\n",
    "    'fit_prior': [True, False]\n",
    "}  \n",
    "\n",
    "lr_params = {  \n",
    "    'penalty': ['l1', 'l2', 'elasticnet', 'none'],\n",
    "    'C': [0.001, 0.01, 0.1, 1.0],\n",
    "    'class_weight': ['balanced', None], \n",
    "    'solver': ['newton-cg', 'lbfgs', 'liblinear', 'sag', 'saga']\n",
    "}"
   ]
  },
  {
   "cell_type": "code",
   "execution_count": null,
   "metadata": {
    "executionInfo": {
     "elapsed": 38,
     "status": "ok",
     "timestamp": 1628097981123,
     "user": {
      "displayName": "Mohammad Yousefi",
      "photoUrl": "https://lh3.googleusercontent.com/a-/AOh14GipMf-NHI0u7U4NEscCv2WtYMLFeo_WxVVRA5xLjA=s64",
      "userId": "16195695402617972562"
     },
     "user_tz": -270
    },
    "id": "bG7xshCiusL-"
   },
   "outputs": [],
   "source": [
    "def tune_model(model, params, x_train, y_train, cv=5, verbose=2, n_jobs=4):\n",
    "\n",
    "    model_rs = RandomizedSearchCV(model, params, cv=cv, verbose=verbose, n_jobs=n_jobs)\n",
    "    model_rs.fit(x_train, y_train)\n",
    "\n",
    "    return model_rs"
   ]
  },
  {
   "cell_type": "code",
   "execution_count": null,
   "metadata": {
    "colab": {
     "base_uri": "https://localhost:8080/"
    },
    "executionInfo": {
     "elapsed": 616301,
     "status": "ok",
     "timestamp": 1628098597387,
     "user": {
      "displayName": "Mohammad Yousefi",
      "photoUrl": "https://lh3.googleusercontent.com/a-/AOh14GipMf-NHI0u7U4NEscCv2WtYMLFeo_WxVVRA5xLjA=s64",
      "userId": "16195695402617972562"
     },
     "user_tz": -270
    },
    "id": "hKYKWrxBmuzs",
    "outputId": "eb922662-c280-4644-ec5d-b0b19c381dc1"
   },
   "outputs": [],
   "source": [
    "knn_rs = tune_model(knn, knn_params, x_train_vec, y_train)"
   ]
  },
  {
   "cell_type": "code",
   "execution_count": null,
   "metadata": {
    "colab": {
     "base_uri": "https://localhost:8080/"
    },
    "executionInfo": {
     "elapsed": 16,
     "status": "ok",
     "timestamp": 1628098597388,
     "user": {
      "displayName": "Mohammad Yousefi",
      "photoUrl": "https://lh3.googleusercontent.com/a-/AOh14GipMf-NHI0u7U4NEscCv2WtYMLFeo_WxVVRA5xLjA=s64",
      "userId": "16195695402617972562"
     },
     "user_tz": -270
    },
    "id": "nWdqw1kRgfAo",
    "outputId": "08f0ecce-2601-47b3-dabf-f0c93090e40b"
   },
   "outputs": [],
   "source": [
    "knn_rs.best_params_"
   ]
  },
  {
   "cell_type": "code",
   "execution_count": null,
   "metadata": {
    "colab": {
     "base_uri": "https://localhost:8080/",
     "height": 507
    },
    "executionInfo": {
     "elapsed": 29591,
     "status": "ok",
     "timestamp": 1628099658168,
     "user": {
      "displayName": "Mohammad Yousefi",
      "photoUrl": "https://lh3.googleusercontent.com/a-/AOh14GipMf-NHI0u7U4NEscCv2WtYMLFeo_WxVVRA5xLjA=s64",
      "userId": "16195695402617972562"
     },
     "user_tz": -270
    },
    "id": "jECuLQWjjBjD",
    "outputId": "36834732-168c-47ca-8914-2e36b2ba2b3c"
   },
   "outputs": [],
   "source": [
    "rs_knn, RandomizedSearch_accuracies_dict = fit_model(KNeighborsClassifier(30, 'distance', 'auto'),\n",
    "          x_train_vec,\n",
    "          y_train,\n",
    "          x_test_vec,\n",
    "          y_test,\n",
    "          RandomizedSearch_accuracies_dict,\n",
    "          'KNN')"
   ]
  },
  {
   "cell_type": "code",
   "execution_count": null,
   "metadata": {
    "colab": {
     "base_uri": "https://localhost:8080/"
    },
    "executionInfo": {
     "elapsed": 75606,
     "status": "ok",
     "timestamp": 1628098702498,
     "user": {
      "displayName": "Mohammad Yousefi",
      "photoUrl": "https://lh3.googleusercontent.com/a-/AOh14GipMf-NHI0u7U4NEscCv2WtYMLFeo_WxVVRA5xLjA=s64",
      "userId": "16195695402617972562"
     },
     "user_tz": -270
    },
    "id": "Z8dmoB1F-kP1",
    "outputId": "92b2533f-661c-4adb-89b9-4e0da417de13"
   },
   "outputs": [],
   "source": [
    "lr_rs = tune_model(lr, lr_params, x_train_vec, y_train)"
   ]
  },
  {
   "cell_type": "code",
   "execution_count": null,
   "metadata": {
    "colab": {
     "base_uri": "https://localhost:8080/"
    },
    "executionInfo": {
     "elapsed": 18,
     "status": "ok",
     "timestamp": 1628098702507,
     "user": {
      "displayName": "Mohammad Yousefi",
      "photoUrl": "https://lh3.googleusercontent.com/a-/AOh14GipMf-NHI0u7U4NEscCv2WtYMLFeo_WxVVRA5xLjA=s64",
      "userId": "16195695402617972562"
     },
     "user_tz": -270
    },
    "id": "B2VwWNTV-j9x",
    "outputId": "61cc0e92-1944-41b8-83bb-804773dfbe49"
   },
   "outputs": [],
   "source": [
    "lr_rs.best_params_"
   ]
  },
  {
   "cell_type": "code",
   "execution_count": null,
   "metadata": {
    "colab": {
     "base_uri": "https://localhost:8080/",
     "height": 507
    },
    "executionInfo": {
     "elapsed": 1702,
     "status": "ok",
     "timestamp": 1628098704197,
     "user": {
      "displayName": "Mohammad Yousefi",
      "photoUrl": "https://lh3.googleusercontent.com/a-/AOh14GipMf-NHI0u7U4NEscCv2WtYMLFeo_WxVVRA5xLjA=s64",
      "userId": "16195695402617972562"
     },
     "user_tz": -270
    },
    "id": "M8DI_DrH-jbJ",
    "outputId": "e07b398f-c5e4-4db7-beee-6e3274e8ee9b"
   },
   "outputs": [],
   "source": [
    "rs_lr, RandomizedSearch_accuracies_dict = fit_model(LogisticRegression(solver='sag',\n",
    "                                                                       C=1.0,\n",
    "                                                                       class_weight='balanced',\n",
    "                                                                       penalty='l2'),\n",
    "          x_train_vec,\n",
    "          y_train,\n",
    "          x_test_vec,\n",
    "          y_test,\n",
    "          RandomizedSearch_accuracies_dict,\n",
    "          'Logistic Regression')"
   ]
  },
  {
   "cell_type": "code",
   "execution_count": null,
   "metadata": {
    "colab": {
     "base_uri": "https://localhost:8080/"
    },
    "executionInfo": {
     "elapsed": 3063,
     "status": "ok",
     "timestamp": 1628098707247,
     "user": {
      "displayName": "Mohammad Yousefi",
      "photoUrl": "https://lh3.googleusercontent.com/a-/AOh14GipMf-NHI0u7U4NEscCv2WtYMLFeo_WxVVRA5xLjA=s64",
      "userId": "16195695402617972562"
     },
     "user_tz": -270
    },
    "id": "LtYDN2AKBGoH",
    "outputId": "53b33298-cd20-483a-9c4b-b0ef160f4336"
   },
   "outputs": [],
   "source": [
    "nb_rs = tune_model(nb, nb_params, x_train_vec, y_train)"
   ]
  },
  {
   "cell_type": "code",
   "execution_count": null,
   "metadata": {
    "colab": {
     "base_uri": "https://localhost:8080/"
    },
    "executionInfo": {
     "elapsed": 9,
     "status": "ok",
     "timestamp": 1628098707248,
     "user": {
      "displayName": "Mohammad Yousefi",
      "photoUrl": "https://lh3.googleusercontent.com/a-/AOh14GipMf-NHI0u7U4NEscCv2WtYMLFeo_WxVVRA5xLjA=s64",
      "userId": "16195695402617972562"
     },
     "user_tz": -270
    },
    "id": "McfOCnVFBG55",
    "outputId": "7fce2a7f-9f6e-463b-e060-505637ca30d0"
   },
   "outputs": [],
   "source": [
    "nb_rs.best_params_"
   ]
  },
  {
   "cell_type": "code",
   "execution_count": null,
   "metadata": {
    "colab": {
     "base_uri": "https://localhost:8080/",
     "height": 507
    },
    "executionInfo": {
     "elapsed": 754,
     "status": "ok",
     "timestamp": 1628098707997,
     "user": {
      "displayName": "Mohammad Yousefi",
      "photoUrl": "https://lh3.googleusercontent.com/a-/AOh14GipMf-NHI0u7U4NEscCv2WtYMLFeo_WxVVRA5xLjA=s64",
      "userId": "16195695402617972562"
     },
     "user_tz": -270
    },
    "id": "MX_s-Cz3BHMJ",
    "outputId": "98e067aa-9dcb-4c12-8fb1-65bb96842bf8"
   },
   "outputs": [],
   "source": [
    "rs_nb, RandomizedSearch_accuracies_dict = fit_model(MultinomialNB(alpha=1.0, fit_prior=False),\n",
    "          x_train_vec,\n",
    "          y_train,\n",
    "          x_test_vec,\n",
    "          y_test,\n",
    "          RandomizedSearch_accuracies_dict,\n",
    "          'Naive Bayes')"
   ]
  },
  {
   "cell_type": "code",
   "execution_count": null,
   "metadata": {
    "colab": {
     "base_uri": "https://localhost:8080/",
     "height": 142
    },
    "executionInfo": {
     "elapsed": 665,
     "status": "ok",
     "timestamp": 1628099676005,
     "user": {
      "displayName": "Mohammad Yousefi",
      "photoUrl": "https://lh3.googleusercontent.com/a-/AOh14GipMf-NHI0u7U4NEscCv2WtYMLFeo_WxVVRA5xLjA=s64",
      "userId": "16195695402617972562"
     },
     "user_tz": -270
    },
    "id": "0olhuCKo69c2",
    "outputId": "1a5cfb7c-4b99-4403-d02e-6ce36cdf2e8b"
   },
   "outputs": [],
   "source": [
    "# cmp_df['Tuned Accuracy'] = list(RandomizedSearch_accuracies_dict.values())\n",
    "# cmp_df.head()"
   ]
  },
  {
   "cell_type": "code",
   "execution_count": 28,
   "metadata": {
    "executionInfo": {
     "elapsed": 9,
     "status": "ok",
     "timestamp": 1628098707999,
     "user": {
      "displayName": "Mohammad Yousefi",
      "photoUrl": "https://lh3.googleusercontent.com/a-/AOh14GipMf-NHI0u7U4NEscCv2WtYMLFeo_WxVVRA5xLjA=s64",
      "userId": "16195695402617972562"
     },
     "user_tz": -270
    },
    "id": "x3gf2Ql3v5lZ"
   },
   "outputs": [],
   "source": [
    "def plot_graphs(history, metric):\n",
    "  plt.plot(history.history[metric])\n",
    "  plt.plot(history.history['val_'+metric], '')\n",
    "  plt.xlabel(\"Epochs\")\n",
    "  plt.ylabel(metric)\n",
    "  plt.legend([metric, 'val_'+metric])"
   ]
  },
  {
   "cell_type": "code",
   "execution_count": null,
   "metadata": {
    "executionInfo": {
     "elapsed": 6,
     "status": "ok",
     "timestamp": 1628098708675,
     "user": {
      "displayName": "Mohammad Yousefi",
      "photoUrl": "https://lh3.googleusercontent.com/a-/AOh14GipMf-NHI0u7U4NEscCv2WtYMLFeo_WxVVRA5xLjA=s64",
      "userId": "16195695402617972562"
     },
     "user_tz": -270
    },
    "id": "nIS2Sb5Yzoih"
   },
   "outputs": [],
   "source": [
    "lens = [len(each.split(' ')) for each in processed_reviews]"
   ]
  },
  {
   "cell_type": "code",
   "execution_count": null,
   "metadata": {
    "colab": {
     "base_uri": "https://localhost:8080/"
    },
    "executionInfo": {
     "elapsed": 5,
     "status": "ok",
     "timestamp": 1628098708675,
     "user": {
      "displayName": "Mohammad Yousefi",
      "photoUrl": "https://lh3.googleusercontent.com/a-/AOh14GipMf-NHI0u7U4NEscCv2WtYMLFeo_WxVVRA5xLjA=s64",
      "userId": "16195695402617972562"
     },
     "user_tz": -270
    },
    "id": "csyAILoh0FUi",
    "outputId": "51f940e1-9139-4b85-bb47-fdb5a52ddd33"
   },
   "outputs": [],
   "source": [
    "print(len([each for each in lens if each >= 300]))\n",
    "print(len([each for each in lens if each >= 400]))\n",
    "print(len([each for each in lens if each >= 500]))\n",
    "print(len([each for each in lens if each >= 600]))\n",
    "print(len([each for each in lens if each >= 700]))\n",
    "print(len([each for each in lens if each >= 800]))\n",
    "print(len([each for each in lens if each >= 900]))\n",
    "print(len([each for each in lens if each >= 1000]))"
   ]
  },
  {
   "cell_type": "markdown",
   "metadata": {
    "id": "imZaseygt_-i"
   },
   "source": [
    "### ***Reformatting the Data for Neural Network***\n",
    "The two cells below, prepares the data for the RNN. The **MAX_WORDS** variable is set to 50000 which is the maximum number of most frequent words we want the neural network to learn and not more. The **MAX_SEQUENCES** variable is set to 600 which is the maximum length of the sequences we want the neural network to learn.<br><br>\n",
    "After the variables, i used the keras tokenizer to fit the data. The **oov_token** is for the time when the tokenizer sees a word that it does not recognize or the word is not in its dictionary. The **fit_on_texts** function, learns all the words from the texts and stores it with an index attached to each word in a dictionary.<br><br>\n",
    "After learning the words, i turn each text into a sequence by replacing each word with its index in tokenizer's vocabulary with **text_to_sequences** function. Then, make all the sequences to have equal length by adding 0 to the sequences until all sequences have the same length as the sequence with the maximum length. This is done by **pad_sequences** function.<br> The **padding** parameter is set to 'post' which means it adds 0 at the end of the sequences. The **truncating** parameter is set to 'post' which means that it removes all the elements **after** the 600th(the **MAX_SEQUENCES** variable) element in all the sequences if they are longer than 600 elements. Here's an example of these steps:<br><br>\n",
    "![example](https://drive.google.com/uc?export=view&id=1qHMw8ftgHhJGwdAL8_v_cnAT6bwqyKE3)"
   ]
  },
  {
   "cell_type": "code",
   "execution_count": 23,
   "metadata": {
    "executionInfo": {
     "elapsed": 10025,
     "status": "ok",
     "timestamp": 1628098718696,
     "user": {
      "displayName": "Mohammad Yousefi",
      "photoUrl": "https://lh3.googleusercontent.com/a-/AOh14GipMf-NHI0u7U4NEscCv2WtYMLFeo_WxVVRA5xLjA=s64",
      "userId": "16195695402617972562"
     },
     "user_tz": -270
    },
    "id": "d3a4RCQwcpgK"
   },
   "outputs": [],
   "source": [
    "MAX_WORDS = 50000\n",
    "MAX_SEQUENCES = 600\n",
    "\n",
    "keras_tokenizer = Tokenizer(num_words = MAX_WORDS, oov_token=\"<OOV>\")\n",
    "keras_tokenizer.fit_on_texts(x_train)\n",
    "\n",
    "word_index = keras_tokenizer.word_index\n",
    "vocab_size = len(word_index)\n",
    "\n",
    "\n",
    "train_sequences = keras_tokenizer.texts_to_sequences(x_train)\n",
    "train_sequences_padded = pad_sequences(train_sequences, maxlen = MAX_SEQUENCES, padding='post', truncating='post')\n",
    "\n",
    "test_sequences = keras_tokenizer.texts_to_sequences(x_test)\n",
    "test_sequences_padded = pad_sequences(test_sequences, maxlen = MAX_SEQUENCES, padding='post', truncating='post')"
   ]
  },
  {
   "cell_type": "code",
   "execution_count": 24,
   "metadata": {
    "executionInfo": {
     "elapsed": 22,
     "status": "ok",
     "timestamp": 1628098718696,
     "user": {
      "displayName": "Mohammad Yousefi",
      "photoUrl": "https://lh3.googleusercontent.com/a-/AOh14GipMf-NHI0u7U4NEscCv2WtYMLFeo_WxVVRA5xLjA=s64",
      "userId": "16195695402617972562"
     },
     "user_tz": -270
    },
    "id": "3ynVOIRYxeZ9"
   },
   "outputs": [],
   "source": [
    "train_sequences_padded = np.array(train_sequences_padded)\n",
    "target_train = np.array(y_train)\n",
    "\n",
    "test_sequences_padded = np.array(test_sequences_padded)\n",
    "target_test = np.array(y_test)"
   ]
  },
  {
   "cell_type": "markdown",
   "metadata": {
    "id": "t4n2e2LF-Taq"
   },
   "source": [
    "### ***Neural Network Training***\n",
    "\n",
    "The function below, creates and trains a recursive neural network. The neural network i've created consists of these layers:<br>\n",
    "\n",
    "1. An ***embedding*** layer to make a vector of each seq to x-dimensions.\n",
    "2. An ***GlobalAveragePooling1D*** layer to get an average of each vector.\n",
    "3. Two hidden **Dense** layers with the **'relu'** activation function.\n",
    "4. A **Dense** output layer with 1 neuron and with **'sigmoid'** activation function, because the project is binary classification.\n",
    "\n",
    "<br>\n",
    "\n",
    "#### ***The Embedding Layer***\n",
    "This layer, puts each element of each sequence in a ***X***-dimensions space ***(x is 64 by default in this function)***. Thus, the shape of the embedding layer's input will bee 600 \\* 64.<br><br>\n",
    "\n",
    "#### ***The GlobalAveragePooling1D layer***\n",
    "This layer, gets an average of each sequences elements and makes each sequence, one dimensial. The image below, shows how these two layers work.<br><br>\n",
    "***Note: GAP stands for Global Average Pooling.***<br><br>\n",
    "![example](https://drive.google.com/uc?export=view&id=1kuu9RAdXro3cZYyI1pu0IW2i9zXX2MSp)"
   ]
  },
  {
   "cell_type": "code",
   "execution_count": 77,
   "metadata": {
    "executionInfo": {
     "elapsed": 18,
     "status": "ok",
     "timestamp": 1628098718696,
     "user": {
      "displayName": "Mohammad Yousefi",
      "photoUrl": "https://lh3.googleusercontent.com/a-/AOh14GipMf-NHI0u7U4NEscCv2WtYMLFeo_WxVVRA5xLjA=s64",
      "userId": "16195695402617972562"
     },
     "user_tz": -270
    },
    "id": "Ur3ho7CFxoL2"
   },
   "outputs": [],
   "source": [
    "def make_NN(x_train, y_train, x_test, y_test, vocab_size, embedding_dim=27, epochs=10, plot=True):\n",
    "\n",
    "    model = Sequential()\n",
    "    model.add(Embedding(vocab_size, embedding_dim, input_length=MAX_SEQUENCES))\n",
    "    model.add(GlobalAveragePooling1D())\n",
    "    model.add(Dense(64))\n",
    "    model.add(LeakyReLU(alpha=0.007))\n",
    "    model.add(BatchNormalization())\n",
    "    model.add(Dense(32, activation='relu'))\n",
    "    model.add(BatchNormalization())\n",
    "    model.add(Dense(1, activation='sigmoid'))\n",
    "\n",
    "    time = datetime.datetime.today().strftime('%Y-%m-%d')\n",
    "    model_path = f'models/model {time}/model.h5'\n",
    "    opt = tf.keras.optimizers.Adam(learning_rate=2e-5, decay=9e-6)\n",
    "    checkpoint = ModelCheckpoint(filepath=model_path, monitor='val_accuracy', mode='max', save_best_only=True)\n",
    "    \n",
    "    model.compile(loss='binary_crossentropy', optimizer=opt, metrics=['accuracy'])\n",
    "    model.summary()\n",
    "    print('\\n')\n",
    "    \n",
    "    history = model.fit(x_train, y_train,\n",
    "                    epochs=epochs,\n",
    "                    verbose='auto',\n",
    "                    validation_split=0.1,\n",
    "                    batch_size=128,\n",
    "                    callbacks=[checkpoint])\n",
    "    \n",
    "    if plot:\n",
    "        plt.figure(figsize=(16, 8))\n",
    "        plt.subplot(1, 2, 1)\n",
    "        plot_graphs(history, 'accuracy')\n",
    "        plt.ylim(None, 1)\n",
    "        plt.subplot(1, 2, 2)\n",
    "        plot_graphs(history, 'loss')\n",
    "        plt.ylim(0, None)\n",
    "\n",
    "    predicted_texts = model.predict(x_test)\n",
    "\n",
    "    loss, accuracy = model.evaluate(x_train, y_train, verbose=False)\n",
    "    print(\"Training Accuracy: {:.4f}\".format(accuracy))\n",
    "    loss, accuracy = model.evaluate(x_test, y_test, verbose=False)\n",
    "    print(\"Testing Accuracy:  {:.4f}\".format(accuracy))\n",
    "\n",
    "    return predicted_texts"
   ]
  },
  {
   "cell_type": "code",
   "execution_count": 78,
   "metadata": {
    "colab": {
     "base_uri": "https://localhost:8080/",
     "height": 943
    },
    "executionInfo": {
     "elapsed": 212247,
     "status": "ok",
     "timestamp": 1628098930927,
     "user": {
      "displayName": "Mohammad Yousefi",
      "photoUrl": "https://lh3.googleusercontent.com/a-/AOh14GipMf-NHI0u7U4NEscCv2WtYMLFeo_WxVVRA5xLjA=s64",
      "userId": "16195695402617972562"
     },
     "user_tz": -270
    },
    "id": "3uoHVVYM1akd",
    "outputId": "56a1a27b-10ff-4cd4-814d-58ee4bb51de6"
   },
   "outputs": [
    {
     "name": "stdout",
     "output_type": "stream",
     "text": [
      "Model: \"sequential\"\n",
      "_________________________________________________________________\n",
      " Layer (type)                Output Shape              Param #   \n",
      "=================================================================\n",
      " embedding (Embedding)       (None, 600, 27)           4363605   \n",
      "                                                                 \n",
      " global_average_pooling1d (G  (None, 27)               0         \n",
      " lobalAveragePooling1D)                                          \n",
      "                                                                 \n",
      " dense (Dense)               (None, 64)                1792      \n",
      "                                                                 \n",
      " leaky_re_lu (LeakyReLU)     (None, 64)                0         \n",
      "                                                                 \n",
      " batch_normalization (BatchN  (None, 64)               256       \n",
      " ormalization)                                                   \n",
      "                                                                 \n",
      " dense_1 (Dense)             (None, 32)                2080      \n",
      "                                                                 \n",
      " batch_normalization_1 (Batc  (None, 32)               128       \n",
      " hNormalization)                                                 \n",
      "                                                                 \n",
      " dense_2 (Dense)             (None, 1)                 33        \n",
      "                                                                 \n",
      "=================================================================\n",
      "Total params: 4,367,894\n",
      "Trainable params: 4,367,702\n",
      "Non-trainable params: 192\n",
      "_________________________________________________________________\n",
      "\n",
      "\n",
      "Epoch 1/10\n",
      "317/317 [==============================] - 24s 72ms/step - loss: 0.6767 - accuracy: 0.5847 - val_loss: 0.6913 - val_accuracy: 0.6358\n",
      "Epoch 2/10\n",
      "317/317 [==============================] - 23s 73ms/step - loss: 0.6135 - accuracy: 0.7101 - val_loss: 0.6332 - val_accuracy: 0.7376\n",
      "Epoch 3/10\n",
      "317/317 [==============================] - 23s 71ms/step - loss: 0.5302 - accuracy: 0.7845 - val_loss: 0.5113 - val_accuracy: 0.7920\n",
      "Epoch 4/10\n",
      "317/317 [==============================] - 22s 71ms/step - loss: 0.4550 - accuracy: 0.8276 - val_loss: 0.5848 - val_accuracy: 0.6558\n",
      "Epoch 5/10\n",
      "317/317 [==============================] - 26s 81ms/step - loss: 0.3957 - accuracy: 0.8504 - val_loss: 0.4001 - val_accuracy: 0.8302\n",
      "Epoch 6/10\n",
      "317/317 [==============================] - 27s 84ms/step - loss: 0.3513 - accuracy: 0.8684 - val_loss: 0.3727 - val_accuracy: 0.8413\n",
      "Epoch 7/10\n",
      "317/317 [==============================] - 25s 77ms/step - loss: 0.3157 - accuracy: 0.8818 - val_loss: 0.3555 - val_accuracy: 0.8413\n",
      "Epoch 8/10\n",
      "317/317 [==============================] - 26s 81ms/step - loss: 0.2915 - accuracy: 0.8891 - val_loss: 0.3298 - val_accuracy: 0.8664\n",
      "Epoch 9/10\n",
      "317/317 [==============================] - 25s 80ms/step - loss: 0.2707 - accuracy: 0.8977 - val_loss: 0.3094 - val_accuracy: 0.8740\n",
      "Epoch 10/10\n",
      "317/317 [==============================] - 26s 81ms/step - loss: 0.2534 - accuracy: 0.9043 - val_loss: 0.2998 - val_accuracy: 0.8827\n",
      "Training Accuracy: 0.9114\n",
      "Testing Accuracy:  0.8760\n"
     ]
    },
    {
     "data": {
      "image/png": "[encoded data removed]",
      "text/plain": [
       "<Figure size 1152x576 with 2 Axes>"
      ]
     },
     "metadata": {},
     "output_type": "display_data"
    }
   ],
   "source": [
    "NN_pred = make_NN(train_sequences_padded, target_train, test_sequences_padded, target_test, vocab_size=vocab_size)"
   ]
  },
  {
   "cell_type": "code",
   "execution_count": 76,
   "metadata": {},
   "outputs": [],
   "source": [
    "clear_session()"
   ]
  },
  {
   "cell_type": "code",
   "execution_count": 38,
   "metadata": {
    "colab": {
     "base_uri": "https://localhost:8080/"
    },
    "executionInfo": {
     "elapsed": 22,
     "status": "ok",
     "timestamp": 1628098930928,
     "user": {
      "displayName": "Mohammad Yousefi",
      "photoUrl": "https://lh3.googleusercontent.com/a-/AOh14GipMf-NHI0u7U4NEscCv2WtYMLFeo_WxVVRA5xLjA=s64",
      "userId": "16195695402617972562"
     },
     "user_tz": -270
    },
    "id": "45cLUeXx1nnC",
    "outputId": "3fd65989-6829-4937-c6eb-589506c703e2"
   },
   "outputs": [
    {
     "name": "stdout",
     "output_type": "stream",
     "text": [
      "[0.8000922]\n",
      "[1, 1, 0, 1, 0, 0, 0, 1, 0, 1]\n"
     ]
    }
   ],
   "source": [
    "print(NN_pred[0])\n",
    "preds = [round(each[0]) for each in NN_pred]\n",
    "print(preds[:10])"
   ]
  },
  {
   "cell_type": "code",
   "execution_count": 39,
   "metadata": {
    "colab": {
     "base_uri": "https://localhost:8080/",
     "height": 356
    },
    "executionInfo": {
     "elapsed": 18,
     "status": "ok",
     "timestamp": 1628098930929,
     "user": {
      "displayName": "Mohammad Yousefi",
      "photoUrl": "https://lh3.googleusercontent.com/a-/AOh14GipMf-NHI0u7U4NEscCv2WtYMLFeo_WxVVRA5xLjA=s64",
      "userId": "16195695402617972562"
     },
     "user_tz": -270
    },
    "id": "Ze02H7tV9mvf",
    "outputId": "63303964-6919-445b-980e-87d0dca1a2af"
   },
   "outputs": [
    {
     "data": {
      "text/plain": [
       "Text(25.1, 0.5, 'Predicted')"
      ]
     },
     "execution_count": 39,
     "metadata": {},
     "output_type": "execute_result"
    },
    {
     "data": {
      "image/png": "[encoded data removed]",
      "text/plain": [
       "<Figure size 360x360 with 1 Axes>"
      ]
     },
     "metadata": {},
     "output_type": "display_data"
    }
   ],
   "source": [
    "matrix = confusion_matrix(list(y_test), preds)\n",
    "\n",
    "sns.set()\n",
    "plt.figure(figsize = (5, 5))\n",
    "\n",
    "sns.heatmap(matrix.T,\n",
    "            square = True,\n",
    "            annot = True,\n",
    "            fmt = 'd',\n",
    "            cbar = False,\n",
    "            linewidths = .9,\n",
    "            xticklabels = ['0', '1'],\n",
    "            yticklabels = ['0', '1'])\n",
    "\n",
    "plt.xlabel('Truth')\n",
    "plt.ylabel('Predicted')"
   ]
  },
  {
   "cell_type": "code",
   "execution_count": null,
   "metadata": {},
   "outputs": [],
   "source": []
  }
 ],
 "metadata": {
  "colab": {
   "authorship_tag": "ABX9TyMqKW8t6yvIAHkOVBeW3k8G",
   "collapsed_sections": [],
   "mount_file_id": "1HPtjnFGB92NzjgNxX_bgpztYyc-SpCve",
   "name": "IMDB Movie Reviews.ipynb",
   "provenance": []
  },
  "kernelspec": {
   "display_name": "Python 3.10.4 64-bit",
   "language": "python",
   "name": "python3"
  },
  "language_info": {
   "codemirror_mode": {
    "name": "ipython",
    "version": 3
   },
   "file_extension": ".py",
   "mimetype": "text/x-python",
   "name": "python",
   "nbconvert_exporter": "python",
   "pygments_lexer": "ipython3",
   "version": "3.10.4"
  },
  "vscode": {
   "interpreter": {
    "hash": "59fcb5e93e480334b760880531ee69ee1d09feacd3f2250a8cd2c15968414997"
   }
  }
 },
 "nbformat": 4,
 "nbformat_minor": 1
}
