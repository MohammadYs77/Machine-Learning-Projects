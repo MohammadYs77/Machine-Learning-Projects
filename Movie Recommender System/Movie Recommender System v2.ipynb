{
 "cells": [
  {
   "cell_type": "code",
   "execution_count": 1,
   "id": "27b9499b-5627-4ae1-acfc-d797b36da7df",
   "metadata": {},
   "outputs": [],
   "source": [
    "import pandas as pd\n",
    "import numpy as np\n",
    "\n",
    "import tensorflow as tf"
   ]
  },
  {
   "cell_type": "code",
   "execution_count": 2,
   "id": "0d2d7c6f-8a61-48a0-a929-2bf87546d637",
   "metadata": {},
   "outputs": [],
   "source": [
    "rat_df = pd.read_csv('./ratings_small.csv')"
   ]
  },
  {
   "cell_type": "code",
   "execution_count": 3,
   "id": "1d7dcc34-9e95-49a6-8195-23faae3f380d",
   "metadata": {},
   "outputs": [
    {
     "data": {
      "text/html": [
       "<div>\n",
       "<style scoped>\n",
       "    .dataframe tbody tr th:only-of-type {\n",
       "        vertical-align: middle;\n",
       "    }\n",
       "\n",
       "    .dataframe tbody tr th {\n",
       "        vertical-align: top;\n",
       "    }\n",
       "\n",
       "    .dataframe thead th {\n",
       "        text-align: right;\n",
       "    }\n",
       "</style>\n",
       "<table border=\"1\" class=\"dataframe\">\n",
       "  <thead>\n",
       "    <tr style=\"text-align: right;\">\n",
       "      <th></th>\n",
       "      <th>userId</th>\n",
       "      <th>movieId</th>\n",
       "      <th>rating</th>\n",
       "      <th>timestamp</th>\n",
       "    </tr>\n",
       "  </thead>\n",
       "  <tbody>\n",
       "    <tr>\n",
       "      <th>0</th>\n",
       "      <td>1</td>\n",
       "      <td>31</td>\n",
       "      <td>2.5</td>\n",
       "      <td>1260759144</td>\n",
       "    </tr>\n",
       "    <tr>\n",
       "      <th>1</th>\n",
       "      <td>1</td>\n",
       "      <td>1029</td>\n",
       "      <td>3.0</td>\n",
       "      <td>1260759179</td>\n",
       "    </tr>\n",
       "    <tr>\n",
       "      <th>2</th>\n",
       "      <td>1</td>\n",
       "      <td>1061</td>\n",
       "      <td>3.0</td>\n",
       "      <td>1260759182</td>\n",
       "    </tr>\n",
       "    <tr>\n",
       "      <th>3</th>\n",
       "      <td>1</td>\n",
       "      <td>1129</td>\n",
       "      <td>2.0</td>\n",
       "      <td>1260759185</td>\n",
       "    </tr>\n",
       "    <tr>\n",
       "      <th>4</th>\n",
       "      <td>1</td>\n",
       "      <td>1172</td>\n",
       "      <td>4.0</td>\n",
       "      <td>1260759205</td>\n",
       "    </tr>\n",
       "  </tbody>\n",
       "</table>\n",
       "</div>"
      ],
      "text/plain": [
       "   userId  movieId  rating   timestamp\n",
       "0       1       31     2.5  1260759144\n",
       "1       1     1029     3.0  1260759179\n",
       "2       1     1061     3.0  1260759182\n",
       "3       1     1129     2.0  1260759185\n",
       "4       1     1172     4.0  1260759205"
      ]
     },
     "execution_count": 3,
     "metadata": {},
     "output_type": "execute_result"
    }
   ],
   "source": [
    "rat_df.head()"
   ]
  },
  {
   "cell_type": "code",
   "execution_count": 4,
   "id": "239a7930-2e43-48b3-8650-77d7eb1fe85f",
   "metadata": {},
   "outputs": [],
   "source": [
    "rat_df['userId_2'] = rat_df['userId'] - 1\n",
    "rat_df['movieId_2'] = rat_df['movieId'] - 1"
   ]
  },
  {
   "cell_type": "code",
   "execution_count": 5,
   "id": "5b322eb4-39c8-493a-93db-1ec06862ce52",
   "metadata": {},
   "outputs": [],
   "source": [
    "num_movies = len(np.unique(rat_df['movieId_2']).tolist())\n",
    "num_users = len(np.unique(rat_df['userId_2']).tolist())\n",
    "num_features = 100"
   ]
  },
  {
   "cell_type": "code",
   "execution_count": 6,
   "id": "eab99320-98cf-449e-b92d-87e3ae7aaa4e",
   "metadata": {},
   "outputs": [],
   "source": [
    "R = np.zeros((num_movies, num_users))\n",
    "Y = np.zeros((num_movies, num_users))\n",
    "\n",
    "movie_idx = sorted(np.unique(rat_df['movieId_2']))\n",
    "uni_mov_idx = list(range(np.unique(rat_df['movieId_2']).shape[0]))\n",
    "\n",
    "movie_idx_dict = dict(zip(movie_idx, uni_mov_idx))\n",
    "rat_df['movieId_2'] = rat_df['movieId_2'].map(movie_idx_dict)\n",
    "\n",
    "for i in range(num_users):\n",
    "    movies_idx = rat_df[rat_df['userId_2'] == i].loc[:, 'movieId_2']\n",
    "    rates_idx = rat_df[rat_df['userId_2'] == i].loc[:, 'rating']\n",
    "    R[movies_idx, i] = 1\n",
    "    Y[movies_idx, i] = rates_idx\n",
    "\n",
    "Ymean = (np.sum(Y * R, axis=1)/(np.sum(R, axis=1)+1e-12)).reshape(-1,1)\n",
    "Ynorm = Y - np.multiply(Ymean, R)"
   ]
  },
  {
   "cell_type": "code",
   "execution_count": 7,
   "id": "d22cbbb8-9995-4b5d-984b-dc63ecbb4d4c",
   "metadata": {},
   "outputs": [],
   "source": [
    "def criterion(w, x, b, lambda_, Y, R):\n",
    "    \"\"\"\n",
    "    Returns the cost for the content-based filtering\n",
    "    Vectorized for speed. Uses tensorflow operations to be compatible with custom training loop.\n",
    "    \n",
    "    \n",
    "    Args:\n",
    "      x (ndarray (num_movies, num_features)): matrix of item features\n",
    "      w (ndarray (num_users,  num_features)): matrix of user parameters\n",
    "      b (ndarray (1, num_users)             : vector of user parameters\n",
    "      Y (ndarray (num_movies, num_users)    : matrix of user ratings of movies\n",
    "      R (ndarray (num_movies, num_users)    : matrix, where R(i, j) = 1 if the i-th movies was rated by the j-th user\n",
    "      lambda_ (float)                       : regularization parameter\n",
    "      \n",
    "    Returns:\n",
    "      J (float) : Cost\n",
    "    \"\"\"\n",
    "    J = (tf.linalg.matmul(x, tf.transpose(w)) + b - Y) * R\n",
    "    J = 0.5 * tf.reduce_sum(J**2) + (lambda_/2) * (tf.reduce_sum(x**2) + tf.reduce_sum(w**2))\n",
    "    return J"
   ]
  },
  {
   "cell_type": "code",
   "execution_count": 9,
   "id": "866af426-22ec-42c9-b8fe-3e80e591e6ec",
   "metadata": {},
   "outputs": [
    {
     "name": "stdout",
     "output_type": "stream",
     "text": [
      "Training loss at iteration 50: 76374.6\n",
      "Training loss at iteration 100: 20307.4\n",
      "Training loss at iteration 150: 9545.6\n",
      "Training loss at iteration 200: 6447.4\n",
      "Training loss at iteration 250: 5355.6\n",
      "Training loss at iteration 300: 4896.6\n",
      "Training loss at iteration 350: 4668.8\n",
      "Training loss at iteration 400: 4538.8\n"
     ]
    }
   ],
   "source": [
    "W = tf.Variable(tf.random.normal((num_users, num_features),dtype=tf.float64),  name='W')\n",
    "X = tf.Variable(tf.random.normal((num_movies, num_features),dtype=tf.float64),  name='X')\n",
    "b = tf.Variable(tf.random.normal((1, num_users),dtype=tf.float64),  name='b')\n",
    "\n",
    "opt = tf.keras.optimizers.Adam(learning_rate=1e-1)\n",
    "\n",
    "iterations = 400\n",
    "lambda_ = 1\n",
    "\n",
    "for iters in range(iterations):\n",
    "    with tf.GradientTape() as tape:\n",
    "        cost = criterion(W, X, b, lambda_, Ynorm, R)\n",
    "        grads = tape.gradient(cost, [W, X, b])\n",
    "        opt.apply_gradients(zip(grads, [W, X, b]))\n",
    "        \n",
    "        if (iters + 1) % 50 == 0:\n",
    "            print(f\"Training loss at iteration {iters + 1}: {cost:0.1f}\")"
   ]
  },
  {
   "cell_type": "code",
   "execution_count": null,
   "id": "685464b9-4fa5-4d6b-a108-c94bf69c0825",
   "metadata": {},
   "outputs": [],
   "source": []
  }
 ],
 "metadata": {
  "kernelspec": {
   "display_name": "Python 3 (ipykernel)",
   "language": "python",
   "name": "python3"
  },
  "language_info": {
   "codemirror_mode": {
    "name": "ipython",
    "version": 3
   },
   "file_extension": ".py",
   "mimetype": "text/x-python",
   "name": "python",
   "nbconvert_exporter": "python",
   "pygments_lexer": "ipython3",
   "version": "3.7.11"
  }
 },
 "nbformat": 4,
 "nbformat_minor": 5
}
