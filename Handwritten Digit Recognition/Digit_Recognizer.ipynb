{
 "cells": [
  {
   "cell_type": "code",
   "execution_count": 1,
   "metadata": {
    "id": "rlCGO5CTRH0u"
   },
   "outputs": [],
   "source": [
    "import pandas as pd\n",
    "import numpy as np\n",
    "\n",
    "import seaborn as sns\n",
    "import matplotlib.pyplot as plt\n",
    "%matplotlib inline\n",
    "from sklearn import datasets, metrics\n",
    "from sklearn.metrics import ConfusionMatrixDisplay, confusion_matrix\n",
    "from sklearn.model_selection import train_test_split\n",
    "\n",
    "import tensorflow as tf\n",
    "import keras.layers as tfl\n",
    "from keras.backend import clear_session"
   ]
  },
  {
   "cell_type": "code",
   "execution_count": 2,
   "metadata": {
    "id": "J7isLU9KWlOs"
   },
   "outputs": [],
   "source": [
    "dataset = datasets.load_digits()"
   ]
  },
  {
   "cell_type": "code",
   "execution_count": 3,
   "metadata": {
    "colab": {
     "base_uri": "https://localhost:8080/"
    },
    "id": "2NaZH_QgXkt0",
    "outputId": "7b315592-817f-4adf-ad59-8db02eaf023f"
   },
   "outputs": [
    {
     "data": {
      "text/plain": [
       "(1797, 8, 8)"
      ]
     },
     "execution_count": 3,
     "metadata": {},
     "output_type": "execute_result"
    }
   ],
   "source": [
    "dataset.images.shape"
   ]
  },
  {
   "cell_type": "code",
   "execution_count": 4,
   "metadata": {
    "colab": {
     "base_uri": "https://localhost:8080/",
     "height": 290
    },
    "id": "Pxh7WeEEXncp",
    "outputId": "552c0c88-e1d7-485c-c61a-d29de66e149b"
   },
   "outputs": [
    {
     "data": {
      "image/png": "[encoded data removed]",
      "text/plain": [
       "<Figure size 1440x720 with 4 Axes>"
      ]
     },
     "metadata": {
      "needs_background": "light"
     },
     "output_type": "display_data"
    }
   ],
   "source": [
    "fig, axes = plt.subplots(1, 4, figsize=(20, 10))\n",
    "\n",
    "for ax, image, label in zip(axes.flat, dataset.images, dataset.target):\n",
    "    ax.set_axis_off()\n",
    "    ax.imshow(image)\n",
    "    ax.set_title(label)"
   ]
  },
  {
   "cell_type": "code",
   "execution_count": 5,
   "metadata": {
    "id": "H-CpSNLrbAcW"
   },
   "outputs": [],
   "source": [
    "X_train, X_test, y_train, y_test = train_test_split(dataset.images, dataset.target, test_size=0.2, stratify=dataset.target)"
   ]
  },
  {
   "cell_type": "code",
   "execution_count": 6,
   "metadata": {
    "colab": {
     "base_uri": "https://localhost:8080/"
    },
    "id": "_rfUSgzypPc6",
    "outputId": "0f3fbbf5-f6ea-436e-c31f-32047d4efff8"
   },
   "outputs": [
    {
     "name": "stdout",
     "output_type": "stream",
     "text": [
      "Shape of X_train:  (1437, 8, 8)\n",
      "Shape of X_test:  (360, 8, 8)\n",
      "Shape of y_train:  (1437,)\n",
      "Shape of y_test:  (360,)\n"
     ]
    }
   ],
   "source": [
    "print('Shape of X_train: ', X_train.shape)\n",
    "print('Shape of X_test: ', X_test.shape)\n",
    "print('Shape of y_train: ', y_train.shape)\n",
    "print('Shape of y_test: ', y_test.shape)"
   ]
  },
  {
   "cell_type": "code",
   "execution_count": 8,
   "metadata": {},
   "outputs": [],
   "source": [
    "X_train = X_train / 255.0\n",
    "X_test = X_test / 255.0"
   ]
  },
  {
   "cell_type": "code",
   "execution_count": 10,
   "metadata": {
    "id": "3P9GznqLxrVQ"
   },
   "outputs": [],
   "source": [
    "def int_encoder(arr):\n",
    "\n",
    "    m = arr.shape[0]\n",
    "    vector_len = len(np.unique(arr))\n",
    "\n",
    "    new_arr = np.zeros((m, vector_len))\n",
    "\n",
    "    for i in range(len(arr)):\n",
    "        new_arr[i][arr[i]] = 1\n",
    "\n",
    "    return new_arr\n"
   ]
  },
  {
   "cell_type": "code",
   "execution_count": 11,
   "metadata": {
    "id": "DizGVwzywLum"
   },
   "outputs": [],
   "source": [
    "m_tr, h, w = X_train.shape\n",
    "m_ts, h, w = X_test.shape\n",
    "\n",
    "X_train = X_train.reshape((m_tr, h, w, 1))\n",
    "X_test = X_test.reshape((m_ts, h, w, 1))\n",
    "\n",
    "y_train = int_encoder(y_train)\n",
    "y_test = int_encoder(y_test)"
   ]
  },
  {
   "cell_type": "code",
   "execution_count": 12,
   "metadata": {
    "colab": {
     "base_uri": "https://localhost:8080/"
    },
    "id": "UifsOzS74ObC",
    "outputId": "1b600456-bc9d-425f-d6e2-a742079103a9"
   },
   "outputs": [
    {
     "name": "stdout",
     "output_type": "stream",
     "text": [
      "Shape of X_train:  (1437, 8, 8, 1)\n",
      "Shape of X_test:  (360, 8, 8, 1)\n",
      "Shape of y_train:  (1437, 10)\n",
      "Shape of y_test:  (360, 10)\n"
     ]
    }
   ],
   "source": [
    "print('Shape of X_train: ', X_train.shape)\n",
    "print('Shape of X_test: ', X_test.shape)\n",
    "print('Shape of y_train: ', y_train.shape)\n",
    "print('Shape of y_test: ', y_test.shape)"
   ]
  },
  {
   "cell_type": "code",
   "execution_count": 20,
   "metadata": {
    "id": "R00pmG_AsZkm"
   },
   "outputs": [],
   "source": [
    "def build_conv_model(input_shape):\n",
    "    input = tf.keras.Input(shape=input_shape)\n",
    "    Z1 = tfl.Conv2D(4, (4, 4), padding='same')(input)\n",
    "    A1 = tfl.LeakyReLU()(Z1)\n",
    "    P1 = tfl.MaxPool2D(pool_size=(2, 2), strides=2)(A1)\n",
    "    F = tfl.Flatten()(P1)\n",
    "    output = tfl.Dense(units=10, activation='softmax')(F)\n",
    "    return tf.keras.Model(inputs=input, outputs=output)"
   ]
  },
  {
   "cell_type": "code",
   "execution_count": 21,
   "metadata": {
    "colab": {
     "base_uri": "https://localhost:8080/"
    },
    "id": "TypGicVqu_gv",
    "outputId": "2e5bd0ab-c987-4e55-da9a-3410c3e464bb"
   },
   "outputs": [
    {
     "name": "stdout",
     "output_type": "stream",
     "text": [
      "Model: \"model\"\n",
      "_________________________________________________________________\n",
      " Layer (type)                Output Shape              Param #   \n",
      "=================================================================\n",
      " input_1 (InputLayer)        [(None, 8, 8, 1)]         0         \n",
      "                                                                 \n",
      " conv2d (Conv2D)             (None, 8, 8, 4)           68        \n",
      "                                                                 \n",
      " leaky_re_lu (LeakyReLU)     (None, 8, 8, 4)           0         \n",
      "                                                                 \n",
      " max_pooling2d (MaxPooling2D  (None, 4, 4, 4)          0         \n",
      " )                                                               \n",
      "                                                                 \n",
      " flatten (Flatten)           (None, 64)                0         \n",
      "                                                                 \n",
      " dense (Dense)               (None, 10)                650       \n",
      "                                                                 \n",
      "=================================================================\n",
      "Total params: 718\n",
      "Trainable params: 718\n",
      "Non-trainable params: 0\n",
      "_________________________________________________________________\n"
     ]
    }
   ],
   "source": [
    "conv_model = build_conv_model((8, 8, 1))\n",
    "conv_model.compile(optimizer='adam',\n",
    "                  loss='categorical_crossentropy',\n",
    "                  metrics=['accuracy'])\n",
    "conv_model.summary()"
   ]
  },
  {
   "cell_type": "code",
   "execution_count": 22,
   "metadata": {
    "colab": {
     "base_uri": "https://localhost:8080/"
    },
    "id": "vQJgzIYGvNt4",
    "outputId": "1299c6a7-398f-4534-c5b9-3f7313bb129c"
   },
   "outputs": [
    {
     "name": "stdout",
     "output_type": "stream",
     "text": [
      "Epoch 1/100\n",
      "45/45 [==============================] - 1s 5ms/step - loss: 2.3020 - accuracy: 0.0905 - val_loss: 2.2959 - val_accuracy: 0.1444\n",
      "Epoch 2/100\n",
      "45/45 [==============================] - 0s 3ms/step - loss: 2.2905 - accuracy: 0.1280 - val_loss: 2.2823 - val_accuracy: 0.1306\n",
      "Epoch 3/100\n",
      "45/45 [==============================] - 0s 3ms/step - loss: 2.2746 - accuracy: 0.1663 - val_loss: 2.2625 - val_accuracy: 0.2222\n",
      "Epoch 4/100\n",
      "45/45 [==============================] - 0s 3ms/step - loss: 2.2516 - accuracy: 0.3138 - val_loss: 2.2348 - val_accuracy: 0.5278\n",
      "Epoch 5/100\n",
      "45/45 [==============================] - 0s 3ms/step - loss: 2.2199 - accuracy: 0.6019 - val_loss: 2.1974 - val_accuracy: 0.7556\n",
      "Epoch 6/100\n",
      "45/45 [==============================] - 0s 3ms/step - loss: 2.1785 - accuracy: 0.7272 - val_loss: 2.1500 - val_accuracy: 0.8056\n",
      "Epoch 7/100\n",
      "45/45 [==============================] - 0s 3ms/step - loss: 2.1275 - accuracy: 0.7599 - val_loss: 2.0932 - val_accuracy: 0.8056\n",
      "Epoch 8/100\n",
      "45/45 [==============================] - 0s 3ms/step - loss: 2.0675 - accuracy: 0.7669 - val_loss: 2.0278 - val_accuracy: 0.7917\n",
      "Epoch 9/100\n",
      "45/45 [==============================] - 0s 3ms/step - loss: 1.9995 - accuracy: 0.7752 - val_loss: 1.9550 - val_accuracy: 0.7944\n",
      "Epoch 10/100\n",
      "45/45 [==============================] - 0s 3ms/step - loss: 1.9250 - accuracy: 0.7857 - val_loss: 1.8764 - val_accuracy: 0.7944\n",
      "Epoch 11/100\n",
      "45/45 [==============================] - 0s 3ms/step - loss: 1.8455 - accuracy: 0.7982 - val_loss: 1.7937 - val_accuracy: 0.8028\n",
      "Epoch 12/100\n",
      "45/45 [==============================] - 0s 3ms/step - loss: 1.7626 - accuracy: 0.8072 - val_loss: 1.7085 - val_accuracy: 0.8167\n",
      "Epoch 13/100\n",
      "45/45 [==============================] - 0s 3ms/step - loss: 1.6781 - accuracy: 0.8128 - val_loss: 1.6224 - val_accuracy: 0.8222\n",
      "Epoch 14/100\n",
      "45/45 [==============================] - 0s 3ms/step - loss: 1.5935 - accuracy: 0.8219 - val_loss: 1.5371 - val_accuracy: 0.8222\n",
      "Epoch 15/100\n",
      "45/45 [==============================] - 0s 3ms/step - loss: 1.5101 - accuracy: 0.8274 - val_loss: 1.4536 - val_accuracy: 0.8389\n",
      "Epoch 16/100\n",
      "45/45 [==============================] - 0s 3ms/step - loss: 1.4291 - accuracy: 0.8302 - val_loss: 1.3732 - val_accuracy: 0.8556\n",
      "Epoch 17/100\n",
      "45/45 [==============================] - 0s 3ms/step - loss: 1.3514 - accuracy: 0.8379 - val_loss: 1.2964 - val_accuracy: 0.8583\n",
      "Epoch 18/100\n",
      "45/45 [==============================] - 0s 3ms/step - loss: 1.2776 - accuracy: 0.8413 - val_loss: 1.2239 - val_accuracy: 0.8583\n",
      "Epoch 19/100\n",
      "45/45 [==============================] - 0s 3ms/step - loss: 1.2081 - accuracy: 0.8469 - val_loss: 1.1560 - val_accuracy: 0.8639\n",
      "Epoch 20/100\n",
      "45/45 [==============================] - 0s 3ms/step - loss: 1.1431 - accuracy: 0.8504 - val_loss: 1.0929 - val_accuracy: 0.8639\n",
      "Epoch 21/100\n",
      "45/45 [==============================] - 0s 3ms/step - loss: 1.0826 - accuracy: 0.8532 - val_loss: 1.0344 - val_accuracy: 0.8639\n",
      "Epoch 22/100\n",
      "45/45 [==============================] - 0s 3ms/step - loss: 1.0265 - accuracy: 0.8580 - val_loss: 0.9805 - val_accuracy: 0.8694\n",
      "Epoch 23/100\n",
      "45/45 [==============================] - 0s 3ms/step - loss: 0.9748 - accuracy: 0.8580 - val_loss: 0.9310 - val_accuracy: 0.8750\n",
      "Epoch 24/100\n",
      "45/45 [==============================] - 0s 3ms/step - loss: 0.9271 - accuracy: 0.8587 - val_loss: 0.8855 - val_accuracy: 0.8722\n",
      "Epoch 25/100\n",
      "45/45 [==============================] - 0s 3ms/step - loss: 0.8832 - accuracy: 0.8601 - val_loss: 0.8438 - val_accuracy: 0.8722\n",
      "Epoch 26/100\n",
      "45/45 [==============================] - 0s 3ms/step - loss: 0.8428 - accuracy: 0.8622 - val_loss: 0.8056 - val_accuracy: 0.8694\n",
      "Epoch 27/100\n",
      "45/45 [==============================] - 0s 3ms/step - loss: 0.8056 - accuracy: 0.8643 - val_loss: 0.7706 - val_accuracy: 0.8750\n",
      "Epoch 28/100\n",
      "45/45 [==============================] - 0s 3ms/step - loss: 0.7713 - accuracy: 0.8678 - val_loss: 0.7385 - val_accuracy: 0.8806\n",
      "Epoch 29/100\n",
      "45/45 [==============================] - 0s 3ms/step - loss: 0.7397 - accuracy: 0.8699 - val_loss: 0.7091 - val_accuracy: 0.8833\n",
      "Epoch 30/100\n",
      "45/45 [==============================] - 0s 5ms/step - loss: 0.7106 - accuracy: 0.8720 - val_loss: 0.6820 - val_accuracy: 0.8806\n",
      "Epoch 31/100\n",
      "45/45 [==============================] - 0s 4ms/step - loss: 0.6836 - accuracy: 0.8761 - val_loss: 0.6570 - val_accuracy: 0.8833\n",
      "Epoch 32/100\n",
      "45/45 [==============================] - 0s 3ms/step - loss: 0.6586 - accuracy: 0.8768 - val_loss: 0.6339 - val_accuracy: 0.8861\n",
      "Epoch 33/100\n",
      "45/45 [==============================] - 0s 3ms/step - loss: 0.6354 - accuracy: 0.8782 - val_loss: 0.6127 - val_accuracy: 0.8833\n",
      "Epoch 34/100\n",
      "45/45 [==============================] - 0s 3ms/step - loss: 0.6139 - accuracy: 0.8824 - val_loss: 0.5929 - val_accuracy: 0.8833\n",
      "Epoch 35/100\n",
      "45/45 [==============================] - 0s 3ms/step - loss: 0.5938 - accuracy: 0.8831 - val_loss: 0.5746 - val_accuracy: 0.8833\n",
      "Epoch 36/100\n",
      "45/45 [==============================] - 0s 4ms/step - loss: 0.5751 - accuracy: 0.8838 - val_loss: 0.5576 - val_accuracy: 0.8861\n",
      "Epoch 37/100\n",
      "45/45 [==============================] - 0s 4ms/step - loss: 0.5575 - accuracy: 0.8859 - val_loss: 0.5417 - val_accuracy: 0.8861\n",
      "Epoch 38/100\n",
      "45/45 [==============================] - 0s 4ms/step - loss: 0.5411 - accuracy: 0.8880 - val_loss: 0.5269 - val_accuracy: 0.8861\n",
      "Epoch 39/100\n",
      "45/45 [==============================] - 0s 4ms/step - loss: 0.5256 - accuracy: 0.8907 - val_loss: 0.5131 - val_accuracy: 0.8861\n",
      "Epoch 40/100\n",
      "45/45 [==============================] - 0s 3ms/step - loss: 0.5111 - accuracy: 0.8928 - val_loss: 0.5001 - val_accuracy: 0.8861\n",
      "Epoch 41/100\n",
      "45/45 [==============================] - 0s 3ms/step - loss: 0.4974 - accuracy: 0.8949 - val_loss: 0.4879 - val_accuracy: 0.8861\n",
      "Epoch 42/100\n",
      "45/45 [==============================] - 0s 3ms/step - loss: 0.4845 - accuracy: 0.8956 - val_loss: 0.4764 - val_accuracy: 0.8889\n",
      "Epoch 43/100\n",
      "45/45 [==============================] - 0s 3ms/step - loss: 0.4723 - accuracy: 0.8963 - val_loss: 0.4656 - val_accuracy: 0.8917\n",
      "Epoch 44/100\n",
      "45/45 [==============================] - 0s 3ms/step - loss: 0.4608 - accuracy: 0.8977 - val_loss: 0.4554 - val_accuracy: 0.8889\n",
      "Epoch 45/100\n",
      "45/45 [==============================] - 0s 3ms/step - loss: 0.4498 - accuracy: 0.8970 - val_loss: 0.4457 - val_accuracy: 0.8917\n",
      "Epoch 46/100\n",
      "45/45 [==============================] - 0s 3ms/step - loss: 0.4394 - accuracy: 0.8977 - val_loss: 0.4366 - val_accuracy: 0.8917\n",
      "Epoch 47/100\n",
      "45/45 [==============================] - 0s 3ms/step - loss: 0.4295 - accuracy: 0.8998 - val_loss: 0.4280 - val_accuracy: 0.8917\n",
      "Epoch 48/100\n",
      "45/45 [==============================] - 0s 3ms/step - loss: 0.4201 - accuracy: 0.9019 - val_loss: 0.4197 - val_accuracy: 0.8972\n",
      "Epoch 49/100\n",
      "45/45 [==============================] - 0s 5ms/step - loss: 0.4111 - accuracy: 0.9026 - val_loss: 0.4119 - val_accuracy: 0.8944\n",
      "Epoch 50/100\n",
      "45/45 [==============================] - 0s 4ms/step - loss: 0.4025 - accuracy: 0.9054 - val_loss: 0.4044 - val_accuracy: 0.8944\n",
      "Epoch 51/100\n",
      "45/45 [==============================] - 0s 3ms/step - loss: 0.3943 - accuracy: 0.9061 - val_loss: 0.3973 - val_accuracy: 0.8944\n",
      "Epoch 52/100\n",
      "45/45 [==============================] - 0s 4ms/step - loss: 0.3865 - accuracy: 0.9068 - val_loss: 0.3905 - val_accuracy: 0.9000\n",
      "Epoch 53/100\n",
      "45/45 [==============================] - 0s 5ms/step - loss: 0.3789 - accuracy: 0.9095 - val_loss: 0.3840 - val_accuracy: 0.9000\n",
      "Epoch 54/100\n",
      "45/45 [==============================] - 0s 3ms/step - loss: 0.3717 - accuracy: 0.9102 - val_loss: 0.3778 - val_accuracy: 0.9000\n",
      "Epoch 55/100\n",
      "45/45 [==============================] - 0s 3ms/step - loss: 0.3647 - accuracy: 0.9116 - val_loss: 0.3718 - val_accuracy: 0.9000\n",
      "Epoch 56/100\n",
      "45/45 [==============================] - 0s 4ms/step - loss: 0.3581 - accuracy: 0.9116 - val_loss: 0.3661 - val_accuracy: 0.9000\n",
      "Epoch 57/100\n",
      "45/45 [==============================] - 0s 5ms/step - loss: 0.3516 - accuracy: 0.9130 - val_loss: 0.3606 - val_accuracy: 0.9028\n",
      "Epoch 58/100\n",
      "45/45 [==============================] - 0s 3ms/step - loss: 0.3455 - accuracy: 0.9130 - val_loss: 0.3553 - val_accuracy: 0.9028\n"
     ]
    },
    {
     "name": "stdout",
     "output_type": "stream",
     "text": [
      "Epoch 59/100\n",
      "45/45 [==============================] - 0s 3ms/step - loss: 0.3395 - accuracy: 0.9123 - val_loss: 0.3502 - val_accuracy: 0.9028\n",
      "Epoch 60/100\n",
      "45/45 [==============================] - 0s 5ms/step - loss: 0.3338 - accuracy: 0.9130 - val_loss: 0.3453 - val_accuracy: 0.9056\n",
      "Epoch 61/100\n",
      "45/45 [==============================] - 0s 4ms/step - loss: 0.3282 - accuracy: 0.9137 - val_loss: 0.3405 - val_accuracy: 0.9083\n",
      "Epoch 62/100\n",
      "45/45 [==============================] - 0s 3ms/step - loss: 0.3229 - accuracy: 0.9137 - val_loss: 0.3360 - val_accuracy: 0.9083\n",
      "Epoch 63/100\n",
      "45/45 [==============================] - 0s 3ms/step - loss: 0.3177 - accuracy: 0.9144 - val_loss: 0.3316 - val_accuracy: 0.9083\n",
      "Epoch 64/100\n",
      "45/45 [==============================] - 0s 3ms/step - loss: 0.3127 - accuracy: 0.9144 - val_loss: 0.3273 - val_accuracy: 0.9056\n",
      "Epoch 65/100\n",
      "45/45 [==============================] - 0s 3ms/step - loss: 0.3079 - accuracy: 0.9151 - val_loss: 0.3232 - val_accuracy: 0.9056\n",
      "Epoch 66/100\n",
      "45/45 [==============================] - 0s 3ms/step - loss: 0.3032 - accuracy: 0.9158 - val_loss: 0.3192 - val_accuracy: 0.9083\n",
      "Epoch 67/100\n",
      "45/45 [==============================] - 0s 3ms/step - loss: 0.2986 - accuracy: 0.9165 - val_loss: 0.3153 - val_accuracy: 0.9083\n",
      "Epoch 68/100\n",
      "45/45 [==============================] - 0s 3ms/step - loss: 0.2942 - accuracy: 0.9165 - val_loss: 0.3116 - val_accuracy: 0.9111\n",
      "Epoch 69/100\n",
      "45/45 [==============================] - 0s 4ms/step - loss: 0.2899 - accuracy: 0.9179 - val_loss: 0.3079 - val_accuracy: 0.9111\n",
      "Epoch 70/100\n",
      "45/45 [==============================] - 0s 4ms/step - loss: 0.2858 - accuracy: 0.9179 - val_loss: 0.3044 - val_accuracy: 0.9083\n",
      "Epoch 71/100\n",
      "45/45 [==============================] - 0s 4ms/step - loss: 0.2817 - accuracy: 0.9172 - val_loss: 0.3010 - val_accuracy: 0.9111\n",
      "Epoch 72/100\n",
      "45/45 [==============================] - 0s 4ms/step - loss: 0.2778 - accuracy: 0.9179 - val_loss: 0.2977 - val_accuracy: 0.9111\n",
      "Epoch 73/100\n",
      "45/45 [==============================] - 0s 4ms/step - loss: 0.2740 - accuracy: 0.9200 - val_loss: 0.2944 - val_accuracy: 0.9111\n",
      "Epoch 74/100\n",
      "45/45 [==============================] - 0s 4ms/step - loss: 0.2703 - accuracy: 0.9200 - val_loss: 0.2913 - val_accuracy: 0.9111\n",
      "Epoch 75/100\n",
      "45/45 [==============================] - 0s 4ms/step - loss: 0.2667 - accuracy: 0.9214 - val_loss: 0.2882 - val_accuracy: 0.9111\n",
      "Epoch 76/100\n",
      "45/45 [==============================] - 0s 4ms/step - loss: 0.2632 - accuracy: 0.9241 - val_loss: 0.2853 - val_accuracy: 0.9111\n",
      "Epoch 77/100\n",
      "45/45 [==============================] - 0s 4ms/step - loss: 0.2598 - accuracy: 0.9262 - val_loss: 0.2824 - val_accuracy: 0.9111\n",
      "Epoch 78/100\n",
      "45/45 [==============================] - 0s 4ms/step - loss: 0.2565 - accuracy: 0.9262 - val_loss: 0.2796 - val_accuracy: 0.9111\n",
      "Epoch 79/100\n",
      "45/45 [==============================] - 0s 4ms/step - loss: 0.2532 - accuracy: 0.9269 - val_loss: 0.2769 - val_accuracy: 0.9111\n",
      "Epoch 80/100\n",
      "45/45 [==============================] - 0s 4ms/step - loss: 0.2501 - accuracy: 0.9283 - val_loss: 0.2742 - val_accuracy: 0.9111\n",
      "Epoch 81/100\n",
      "45/45 [==============================] - 0s 4ms/step - loss: 0.2470 - accuracy: 0.9283 - val_loss: 0.2716 - val_accuracy: 0.9111\n",
      "Epoch 82/100\n",
      "45/45 [==============================] - 0s 4ms/step - loss: 0.2440 - accuracy: 0.9304 - val_loss: 0.2691 - val_accuracy: 0.9139\n",
      "Epoch 83/100\n",
      "45/45 [==============================] - 0s 4ms/step - loss: 0.2411 - accuracy: 0.9311 - val_loss: 0.2666 - val_accuracy: 0.9139\n",
      "Epoch 84/100\n",
      "45/45 [==============================] - 0s 4ms/step - loss: 0.2383 - accuracy: 0.9311 - val_loss: 0.2642 - val_accuracy: 0.9139\n",
      "Epoch 85/100\n",
      "45/45 [==============================] - 0s 4ms/step - loss: 0.2355 - accuracy: 0.9318 - val_loss: 0.2618 - val_accuracy: 0.9167\n",
      "Epoch 86/100\n",
      "45/45 [==============================] - 0s 4ms/step - loss: 0.2328 - accuracy: 0.9325 - val_loss: 0.2595 - val_accuracy: 0.9194\n",
      "Epoch 87/100\n",
      "45/45 [==============================] - 0s 3ms/step - loss: 0.2301 - accuracy: 0.9332 - val_loss: 0.2572 - val_accuracy: 0.9194\n",
      "Epoch 88/100\n",
      "45/45 [==============================] - 0s 3ms/step - loss: 0.2275 - accuracy: 0.9339 - val_loss: 0.2551 - val_accuracy: 0.9222\n",
      "Epoch 89/100\n",
      "45/45 [==============================] - 0s 3ms/step - loss: 0.2250 - accuracy: 0.9346 - val_loss: 0.2529 - val_accuracy: 0.9194\n",
      "Epoch 90/100\n",
      "45/45 [==============================] - 0s 3ms/step - loss: 0.2225 - accuracy: 0.9353 - val_loss: 0.2508 - val_accuracy: 0.9194\n",
      "Epoch 91/100\n",
      "45/45 [==============================] - 0s 3ms/step - loss: 0.2201 - accuracy: 0.9367 - val_loss: 0.2488 - val_accuracy: 0.9194\n",
      "Epoch 92/100\n",
      "45/45 [==============================] - 0s 4ms/step - loss: 0.2177 - accuracy: 0.9367 - val_loss: 0.2468 - val_accuracy: 0.9222\n",
      "Epoch 93/100\n",
      "45/45 [==============================] - 0s 4ms/step - loss: 0.2154 - accuracy: 0.9367 - val_loss: 0.2448 - val_accuracy: 0.9222\n",
      "Epoch 94/100\n",
      "45/45 [==============================] - 0s 4ms/step - loss: 0.2131 - accuracy: 0.9367 - val_loss: 0.2429 - val_accuracy: 0.9222\n",
      "Epoch 95/100\n",
      "45/45 [==============================] - 0s 4ms/step - loss: 0.2109 - accuracy: 0.9374 - val_loss: 0.2410 - val_accuracy: 0.9222\n",
      "Epoch 96/100\n",
      "45/45 [==============================] - 0s 4ms/step - loss: 0.2088 - accuracy: 0.9402 - val_loss: 0.2392 - val_accuracy: 0.9222\n",
      "Epoch 97/100\n",
      "45/45 [==============================] - 0s 4ms/step - loss: 0.2066 - accuracy: 0.9402 - val_loss: 0.2374 - val_accuracy: 0.9222\n",
      "Epoch 98/100\n",
      "45/45 [==============================] - 0s 4ms/step - loss: 0.2046 - accuracy: 0.9408 - val_loss: 0.2356 - val_accuracy: 0.9222\n",
      "Epoch 99/100\n",
      "45/45 [==============================] - 0s 5ms/step - loss: 0.2025 - accuracy: 0.9408 - val_loss: 0.2339 - val_accuracy: 0.9250\n",
      "Epoch 100/100\n",
      "45/45 [==============================] - 0s 4ms/step - loss: 0.2005 - accuracy: 0.9415 - val_loss: 0.2322 - val_accuracy: 0.9250\n"
     ]
    }
   ],
   "source": [
    "train_dataset = tf.data.Dataset.from_tensor_slices((X_train, y_train)).batch(32)\n",
    "test_dataset = tf.data.Dataset.from_tensor_slices((X_test, y_test)).batch(32)\n",
    "history = conv_model.fit(train_dataset, epochs=100, validation_data=test_dataset)\n",
    "clear_session()"
   ]
  },
  {
   "cell_type": "code",
   "execution_count": 23,
   "metadata": {
    "colab": {
     "base_uri": "https://localhost:8080/"
    },
    "id": "iZ2hvrkZ3qig",
    "outputId": "e0d34439-83e4-4827-dd0c-c2be067d8160"
   },
   "outputs": [
    {
     "data": {
      "text/plain": [
       "dict_keys(['loss', 'accuracy', 'val_loss', 'val_accuracy'])"
      ]
     },
     "execution_count": 23,
     "metadata": {},
     "output_type": "execute_result"
    }
   ],
   "source": [
    "history.history.keys()"
   ]
  },
  {
   "cell_type": "code",
   "execution_count": 25,
   "metadata": {
    "colab": {
     "base_uri": "https://localhost:8080/",
     "height": 873
    },
    "id": "MPmiDTBzvok5",
    "outputId": "43f31f31-9935-424f-c6b4-4e5f1e479be4",
    "scrolled": false
   },
   "outputs": [
    {
     "data": {
      "image/png": "[encoded data removed]",
      "text/plain": [
       "<Figure size 1296x864 with 2 Axes>"
      ]
     },
     "metadata": {
      "needs_background": "light"
     },
     "output_type": "display_data"
    }
   ],
   "source": [
    "figure, (ax1, ax2) = plt.subplots(2, 1, sharex=True, figsize=(36, 24))\n",
    "\n",
    "df_loss_acc = pd.DataFrame(history.history)\n",
    "df_loss= df_loss_acc[['loss','val_loss']].copy(deep=True)\n",
    "df_loss.rename(columns={'loss':'train','val_loss':'validation'},inplace=True)\n",
    "df_acc= df_loss_acc[['accuracy','val_accuracy']].copy(deep=True)\n",
    "df_acc.rename(columns={'accuracy':'train','val_accuracy':'validation'},inplace=True)\n",
    "\n",
    "df_loss.plot(ax=ax1, title='Model loss', figsize=(18,12)).set(xlabel='Epoch',ylabel='Loss')\n",
    "df_acc.plot(ax=ax2, title='Model Accuracy',figsize=(18,12)).set(xlabel='Epoch',ylabel='Accuracy')\n",
    "\n",
    "figure.tight_layout()"
   ]
  },
  {
   "cell_type": "code",
   "execution_count": 26,
   "metadata": {
    "id": "ZuXmpdvcNUJe"
   },
   "outputs": [],
   "source": [
    "preds = conv_model.predict(X_test)"
   ]
  },
  {
   "cell_type": "code",
   "execution_count": 27,
   "metadata": {
    "colab": {
     "base_uri": "https://localhost:8080/"
    },
    "id": "FaUuPb9f6ZMT",
    "outputId": "4ce82f73-6a16-45ba-fdb6-566e385e2511"
   },
   "outputs": [
    {
     "data": {
      "text/plain": [
       "(360, 10)"
      ]
     },
     "execution_count": 27,
     "metadata": {},
     "output_type": "execute_result"
    }
   ],
   "source": [
    "preds.shape"
   ]
  },
  {
   "cell_type": "code",
   "execution_count": 28,
   "metadata": {
    "id": "lUXCLiId6aJF"
   },
   "outputs": [],
   "source": [
    "predicted = [np.argmax(preds[i]) for i in range(preds.shape[0])]\n",
    "y_test2 = [np.argmax(y_test[i]) for i in range(y_test.shape[0])]"
   ]
  },
  {
   "cell_type": "code",
   "execution_count": 29,
   "metadata": {
    "colab": {
     "base_uri": "https://localhost:8080/"
    },
    "id": "iVAK8gh17a2b",
    "outputId": "df5448c8-af23-4dac-a4d7-c545c892ce1d"
   },
   "outputs": [
    {
     "name": "stdout",
     "output_type": "stream",
     "text": [
      "              precision    recall  f1-score   support\n",
      "\n",
      "           0       1.00      1.00      1.00        36\n",
      "           1       0.76      0.78      0.77        36\n",
      "           2       0.94      0.89      0.91        35\n",
      "           3       0.97      0.95      0.96        37\n",
      "           4       0.97      0.92      0.94        36\n",
      "           5       0.95      0.97      0.96        37\n",
      "           6       1.00      0.97      0.99        36\n",
      "           7       0.97      0.92      0.94        36\n",
      "           8       0.86      0.91      0.89        35\n",
      "           9       0.85      0.94      0.89        36\n",
      "\n",
      "    accuracy                           0.93       360\n",
      "   macro avg       0.93      0.92      0.93       360\n",
      "weighted avg       0.93      0.93      0.93       360\n",
      "\n"
     ]
    }
   ],
   "source": [
    "print(metrics.classification_report(y_test2, predicted))"
   ]
  },
  {
   "cell_type": "code",
   "execution_count": 30,
   "metadata": {
    "colab": {
     "base_uri": "https://localhost:8080/",
     "height": 598
    },
    "id": "V6obEgrL7yhR",
    "outputId": "0b36e0b8-c416-4a62-859c-92f2410c68a4"
   },
   "outputs": [
    {
     "data": {
      "text/plain": [
       "<sklearn.metrics._plot.confusion_matrix.ConfusionMatrixDisplay at 0x26475b5fd08>"
      ]
     },
     "execution_count": 30,
     "metadata": {},
     "output_type": "execute_result"
    },
    {
     "data": {
      "image/png": "[encoded data removed]",
      "text/plain": [
       "<Figure size 720x720 with 2 Axes>"
      ]
     },
     "metadata": {
      "needs_background": "light"
     },
     "output_type": "display_data"
    }
   ],
   "source": [
    "cm = confusion_matrix(y_test2, predicted)\n",
    "\n",
    "cmd = ConfusionMatrixDisplay(cm, display_labels=dataset.target_names)\n",
    "figure, ax = plt.subplots(figsize=(10, 10))\n",
    "cmd.plot(ax=ax)"
   ]
  },
  {
   "cell_type": "code",
   "execution_count": null,
   "metadata": {
    "id": "KM5vgIES9jZJ"
   },
   "outputs": [],
   "source": []
  }
 ],
 "metadata": {
  "colab": {
   "collapsed_sections": [],
   "name": "Digit Recognizer.ipynb",
   "provenance": []
  },
  "kernelspec": {
   "display_name": "Python 3.10.4 64-bit",
   "language": "python",
   "name": "python3"
  },
  "language_info": {
   "codemirror_mode": {
    "name": "ipython",
    "version": 3
   },
   "file_extension": ".py",
   "mimetype": "text/x-python",
   "name": "python",
   "nbconvert_exporter": "python",
   "pygments_lexer": "ipython3",
   "version": "3.10.4"
  },
  "vscode": {
   "interpreter": {
    "hash": "59fcb5e93e480334b760880531ee69ee1d09feacd3f2250a8cd2c15968414997"
   }
  }
 },
 "nbformat": 4,
 "nbformat_minor": 1
}
